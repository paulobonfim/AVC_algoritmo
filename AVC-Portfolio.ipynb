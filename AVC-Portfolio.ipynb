{
 "cells": [
  {
   "cell_type": "markdown",
   "metadata": {},
   "source": [
    "# Prevendo a ocorrência de AVC"
   ]
  },
  {
   "cell_type": "markdown",
   "metadata": {},
   "source": [
    "#### \"Exercício realizado durante o curso Data Science Aplicada à Área de Saúde da Data Science Academy\""
   ]
  },
  {
   "cell_type": "markdown",
   "metadata": {},
   "source": [
    "### 1) Problema de negócio"
   ]
  },
  {
   "cell_type": "markdown",
   "metadata": {},
   "source": [
    "O AVC(Acidente Vascular Cerebral) está entre as doenças que mais matam no Brasil e no Mundo, além disso, cerca de 70% das pessoas que sofrem um derrame não retorna ao trabalho depois do acidente vascular cerebral e 50% ficam dependentes de outras pessoas no dia a dia.\n",
    "\n",
    "Ele ocorre quando o suprimento de sangue que vai para o cérebro é interrompido ou reduzido drasticamente, privando as células de nutrientes e oxigênio. \n",
    "\n",
    "O AVC pode ser do tipo isquêmico, quando há obstruçao de uma artéria ou do tipo hemorrágico, quando há rompimento de um vaso cerebral provocando hemorragia."
   ]
  },
  {
   "cell_type": "markdown",
   "metadata": {},
   "source": [
    "Os principais fatores de risco para desenvolver um AVC são: hipertensão, diabeste tipo 2, obesidade, tabagismoo, sedentarismo, idade avançada, ser do sexo masculino"
   ]
  },
  {
   "cell_type": "markdown",
   "metadata": {},
   "source": [
    "Tendo em vista a importância desse problema de saúde pública, criaremos um modelo capaz de prever a ocorrência de AVC baseado nos fatores de risco."
   ]
  },
  {
   "cell_type": "markdown",
   "metadata": {},
   "source": [
    "### 2) Carregando os Dados"
   ]
  },
  {
   "cell_type": "code",
   "execution_count": 3,
   "metadata": {},
   "outputs": [],
   "source": [
    "# Importando as bibliotecas necessárias\n",
    "import pandas as pd\n",
    "import numpy as np\n",
    "import matplotlib.pyplot as plt\n",
    "import matplotlib as m\n",
    "%matplotlib inline"
   ]
  },
  {
   "cell_type": "code",
   "execution_count": 4,
   "metadata": {},
   "outputs": [],
   "source": [
    "# Carregando os dados\n",
    "dataset = pd.read_csv('dados/dataset-data-munging-01.csv')"
   ]
  },
  {
   "cell_type": "code",
   "execution_count": 5,
   "metadata": {
    "scrolled": true
   },
   "outputs": [
    {
     "data": {
      "text/html": [
       "<div>\n",
       "<style scoped>\n",
       "    .dataframe tbody tr th:only-of-type {\n",
       "        vertical-align: middle;\n",
       "    }\n",
       "\n",
       "    .dataframe tbody tr th {\n",
       "        vertical-align: top;\n",
       "    }\n",
       "\n",
       "    .dataframe thead th {\n",
       "        text-align: right;\n",
       "    }\n",
       "</style>\n",
       "<table border=\"1\" class=\"dataframe\">\n",
       "  <thead>\n",
       "    <tr style=\"text-align: right;\">\n",
       "      <th></th>\n",
       "      <th>id</th>\n",
       "      <th>sexo</th>\n",
       "      <th>idade</th>\n",
       "      <th>hipertensao</th>\n",
       "      <th>doenca_coracao</th>\n",
       "      <th>casado</th>\n",
       "      <th>tipo_trabalho</th>\n",
       "      <th>tipo_residencia</th>\n",
       "      <th>media_nivel_glicose</th>\n",
       "      <th>imc</th>\n",
       "      <th>status_tabagismo</th>\n",
       "      <th>avc</th>\n",
       "    </tr>\n",
       "  </thead>\n",
       "  <tbody>\n",
       "    <tr>\n",
       "      <th>0</th>\n",
       "      <td>30669</td>\n",
       "      <td>Masculino</td>\n",
       "      <td>3.0</td>\n",
       "      <td>0</td>\n",
       "      <td>0</td>\n",
       "      <td>No</td>\n",
       "      <td>crianca</td>\n",
       "      <td>Rural</td>\n",
       "      <td>95.12</td>\n",
       "      <td>18.0</td>\n",
       "      <td>NaN</td>\n",
       "      <td>0</td>\n",
       "    </tr>\n",
       "    <tr>\n",
       "      <th>1</th>\n",
       "      <td>30468</td>\n",
       "      <td>Masculino</td>\n",
       "      <td>58.0</td>\n",
       "      <td>1</td>\n",
       "      <td>0</td>\n",
       "      <td>Yes</td>\n",
       "      <td>Privado</td>\n",
       "      <td>Urbana</td>\n",
       "      <td>87.96</td>\n",
       "      <td>39.2</td>\n",
       "      <td>nunca fumou</td>\n",
       "      <td>0</td>\n",
       "    </tr>\n",
       "    <tr>\n",
       "      <th>2</th>\n",
       "      <td>16523</td>\n",
       "      <td>Feminino</td>\n",
       "      <td>8.0</td>\n",
       "      <td>0</td>\n",
       "      <td>0</td>\n",
       "      <td>No</td>\n",
       "      <td>Privado</td>\n",
       "      <td>Urbana</td>\n",
       "      <td>110.89</td>\n",
       "      <td>17.6</td>\n",
       "      <td>NaN</td>\n",
       "      <td>0</td>\n",
       "    </tr>\n",
       "    <tr>\n",
       "      <th>3</th>\n",
       "      <td>56543</td>\n",
       "      <td>Feminino</td>\n",
       "      <td>70.0</td>\n",
       "      <td>0</td>\n",
       "      <td>0</td>\n",
       "      <td>Yes</td>\n",
       "      <td>Privado</td>\n",
       "      <td>Rural</td>\n",
       "      <td>69.04</td>\n",
       "      <td>35.9</td>\n",
       "      <td>fuma eventualmente</td>\n",
       "      <td>0</td>\n",
       "    </tr>\n",
       "    <tr>\n",
       "      <th>4</th>\n",
       "      <td>46136</td>\n",
       "      <td>Masculino</td>\n",
       "      <td>14.0</td>\n",
       "      <td>0</td>\n",
       "      <td>0</td>\n",
       "      <td>No</td>\n",
       "      <td>Nunca_trabalhou</td>\n",
       "      <td>Rural</td>\n",
       "      <td>161.28</td>\n",
       "      <td>19.1</td>\n",
       "      <td>NaN</td>\n",
       "      <td>0</td>\n",
       "    </tr>\n",
       "  </tbody>\n",
       "</table>\n",
       "</div>"
      ],
      "text/plain": [
       "      id       sexo  idade  hipertensao  doenca_coracao casado  \\\n",
       "0  30669  Masculino    3.0            0               0     No   \n",
       "1  30468  Masculino   58.0            1               0    Yes   \n",
       "2  16523   Feminino    8.0            0               0     No   \n",
       "3  56543   Feminino   70.0            0               0    Yes   \n",
       "4  46136  Masculino   14.0            0               0     No   \n",
       "\n",
       "     tipo_trabalho tipo_residencia  media_nivel_glicose   imc  \\\n",
       "0          crianca           Rural                95.12  18.0   \n",
       "1          Privado          Urbana                87.96  39.2   \n",
       "2          Privado          Urbana               110.89  17.6   \n",
       "3          Privado           Rural                69.04  35.9   \n",
       "4  Nunca_trabalhou           Rural               161.28  19.1   \n",
       "\n",
       "     status_tabagismo  avc  \n",
       "0                 NaN    0  \n",
       "1         nunca fumou    0  \n",
       "2                 NaN    0  \n",
       "3  fuma eventualmente    0  \n",
       "4                 NaN    0  "
      ]
     },
     "execution_count": 5,
     "metadata": {},
     "output_type": "execute_result"
    }
   ],
   "source": [
    "# Visualizando os primeiros registros\n",
    "dataset.head(5)"
   ]
  },
  {
   "cell_type": "code",
   "execution_count": 6,
   "metadata": {},
   "outputs": [
    {
     "data": {
      "text/plain": [
       "(43400, 12)"
      ]
     },
     "execution_count": 6,
     "metadata": {},
     "output_type": "execute_result"
    }
   ],
   "source": [
    "# Formato dos dados\n",
    "dataset.shape"
   ]
  },
  {
   "cell_type": "code",
   "execution_count": 7,
   "metadata": {},
   "outputs": [
    {
     "data": {
      "text/plain": [
       "id                       int64\n",
       "sexo                    object\n",
       "idade                  float64\n",
       "hipertensao              int64\n",
       "doenca_coracao           int64\n",
       "casado                  object\n",
       "tipo_trabalho           object\n",
       "tipo_residencia         object\n",
       "media_nivel_glicose    float64\n",
       "imc                    float64\n",
       "status_tabagismo        object\n",
       "avc                      int64\n",
       "dtype: object"
      ]
     },
     "execution_count": 7,
     "metadata": {},
     "output_type": "execute_result"
    }
   ],
   "source": [
    "#tipos dos dados\n",
    "dataset.dtypes"
   ]
  },
  {
   "cell_type": "code",
   "execution_count": 8,
   "metadata": {},
   "outputs": [
    {
     "data": {
      "text/plain": [
       "0    42617\n",
       "1      783\n",
       "Name: avc, dtype: int64"
      ]
     },
     "execution_count": 8,
     "metadata": {},
     "output_type": "execute_result"
    }
   ],
   "source": [
    "#valores da classe alvo AVC\n",
    "dataset['avc'].value_counts()"
   ]
  },
  {
   "cell_type": "markdown",
   "metadata": {},
   "source": [
    "### 3) Data Munging - Preparando dados para a análise exploratória"
   ]
  },
  {
   "cell_type": "markdown",
   "metadata": {},
   "source": [
    "### 3.1 - Identificando e Removendo Colunas Irrelevantes"
   ]
  },
  {
   "cell_type": "markdown",
   "metadata": {},
   "source": [
    "Temos algumas colunas em nosso dataset, que parecem influenciar pouco no fato da pessoa desenvolver um AVC, sendo assim, vamos removê-las."
   ]
  },
  {
   "cell_type": "code",
   "execution_count": 9,
   "metadata": {},
   "outputs": [],
   "source": [
    "# Excluímos a coluna id porque esse é apenas um número atribuído a cada paciente sem relevância \n",
    "del dataset['id']"
   ]
  },
  {
   "cell_type": "code",
   "execution_count": 10,
   "metadata": {},
   "outputs": [],
   "source": [
    "# Excluímos a coluna \"casado\", já que não parece ser uma boa variável preditora para se ter AVC\n",
    "del dataset['casado']"
   ]
  },
  {
   "cell_type": "code",
   "execution_count": 11,
   "metadata": {
    "scrolled": true
   },
   "outputs": [
    {
     "data": {
      "text/html": [
       "<div>\n",
       "<style scoped>\n",
       "    .dataframe tbody tr th:only-of-type {\n",
       "        vertical-align: middle;\n",
       "    }\n",
       "\n",
       "    .dataframe tbody tr th {\n",
       "        vertical-align: top;\n",
       "    }\n",
       "\n",
       "    .dataframe thead th {\n",
       "        text-align: right;\n",
       "    }\n",
       "</style>\n",
       "<table border=\"1\" class=\"dataframe\">\n",
       "  <thead>\n",
       "    <tr style=\"text-align: right;\">\n",
       "      <th></th>\n",
       "      <th>idade</th>\n",
       "      <th>hipertensao</th>\n",
       "      <th>doenca_coracao</th>\n",
       "      <th>media_nivel_glicose</th>\n",
       "      <th>imc</th>\n",
       "      <th>avc</th>\n",
       "    </tr>\n",
       "  </thead>\n",
       "  <tbody>\n",
       "    <tr>\n",
       "      <th>count</th>\n",
       "      <td>43400.000000</td>\n",
       "      <td>43400.000000</td>\n",
       "      <td>43400.000000</td>\n",
       "      <td>43400.000000</td>\n",
       "      <td>41938.000000</td>\n",
       "      <td>43400.000000</td>\n",
       "    </tr>\n",
       "    <tr>\n",
       "      <th>mean</th>\n",
       "      <td>42.217894</td>\n",
       "      <td>0.093571</td>\n",
       "      <td>0.047512</td>\n",
       "      <td>104.482750</td>\n",
       "      <td>28.605038</td>\n",
       "      <td>0.018041</td>\n",
       "    </tr>\n",
       "    <tr>\n",
       "      <th>std</th>\n",
       "      <td>22.519649</td>\n",
       "      <td>0.291235</td>\n",
       "      <td>0.212733</td>\n",
       "      <td>43.111751</td>\n",
       "      <td>7.770020</td>\n",
       "      <td>0.133103</td>\n",
       "    </tr>\n",
       "    <tr>\n",
       "      <th>min</th>\n",
       "      <td>0.080000</td>\n",
       "      <td>0.000000</td>\n",
       "      <td>0.000000</td>\n",
       "      <td>55.000000</td>\n",
       "      <td>10.100000</td>\n",
       "      <td>0.000000</td>\n",
       "    </tr>\n",
       "    <tr>\n",
       "      <th>25%</th>\n",
       "      <td>24.000000</td>\n",
       "      <td>0.000000</td>\n",
       "      <td>0.000000</td>\n",
       "      <td>77.540000</td>\n",
       "      <td>23.200000</td>\n",
       "      <td>0.000000</td>\n",
       "    </tr>\n",
       "    <tr>\n",
       "      <th>50%</th>\n",
       "      <td>44.000000</td>\n",
       "      <td>0.000000</td>\n",
       "      <td>0.000000</td>\n",
       "      <td>91.580000</td>\n",
       "      <td>27.700000</td>\n",
       "      <td>0.000000</td>\n",
       "    </tr>\n",
       "    <tr>\n",
       "      <th>75%</th>\n",
       "      <td>60.000000</td>\n",
       "      <td>0.000000</td>\n",
       "      <td>0.000000</td>\n",
       "      <td>112.070000</td>\n",
       "      <td>32.900000</td>\n",
       "      <td>0.000000</td>\n",
       "    </tr>\n",
       "    <tr>\n",
       "      <th>max</th>\n",
       "      <td>82.000000</td>\n",
       "      <td>1.000000</td>\n",
       "      <td>1.000000</td>\n",
       "      <td>291.050000</td>\n",
       "      <td>97.600000</td>\n",
       "      <td>1.000000</td>\n",
       "    </tr>\n",
       "  </tbody>\n",
       "</table>\n",
       "</div>"
      ],
      "text/plain": [
       "              idade   hipertensao  doenca_coracao  media_nivel_glicose  \\\n",
       "count  43400.000000  43400.000000    43400.000000         43400.000000   \n",
       "mean      42.217894      0.093571        0.047512           104.482750   \n",
       "std       22.519649      0.291235        0.212733            43.111751   \n",
       "min        0.080000      0.000000        0.000000            55.000000   \n",
       "25%       24.000000      0.000000        0.000000            77.540000   \n",
       "50%       44.000000      0.000000        0.000000            91.580000   \n",
       "75%       60.000000      0.000000        0.000000           112.070000   \n",
       "max       82.000000      1.000000        1.000000           291.050000   \n",
       "\n",
       "                imc           avc  \n",
       "count  41938.000000  43400.000000  \n",
       "mean      28.605038      0.018041  \n",
       "std        7.770020      0.133103  \n",
       "min       10.100000      0.000000  \n",
       "25%       23.200000      0.000000  \n",
       "50%       27.700000      0.000000  \n",
       "75%       32.900000      0.000000  \n",
       "max       97.600000      1.000000  "
      ]
     },
     "execution_count": 11,
     "metadata": {},
     "output_type": "execute_result"
    }
   ],
   "source": [
    "# Coletando estatísticas das colunas\n",
    "dataset.describe()"
   ]
  },
  {
   "cell_type": "code",
   "execution_count": 12,
   "metadata": {
    "scrolled": true
   },
   "outputs": [
    {
     "data": {
      "text/plain": [
       "Index(['sexo', 'tipo_trabalho', 'tipo_residencia', 'status_tabagismo'], dtype='object')"
      ]
     },
     "execution_count": 12,
     "metadata": {},
     "output_type": "execute_result"
    }
   ],
   "source": [
    "# Extraindo variáveis do tipo categóricas\n",
    "dfcatname = dataset.dtypes[dataset.dtypes == 'object'].index\n",
    "dfcatname"
   ]
  },
  {
   "cell_type": "code",
   "execution_count": 13,
   "metadata": {},
   "outputs": [
    {
     "data": {
      "text/plain": [
       "['idade', 'hipertensao', 'doenca_coracao', 'media_nivel_glicose', 'imc', 'avc']"
      ]
     },
     "execution_count": 13,
     "metadata": {},
     "output_type": "execute_result"
    }
   ],
   "source": [
    "# Extraindo variáveis do tipo numéricas contínuas\n",
    "dfconname = [item for item in list(dataset.columns) if item not in list(dfcatname)]\n",
    "dfconname"
   ]
  },
  {
   "cell_type": "code",
   "execution_count": 14,
   "metadata": {
    "scrolled": true
   },
   "outputs": [
    {
     "data": {
      "text/html": [
       "<div>\n",
       "<style scoped>\n",
       "    .dataframe tbody tr th:only-of-type {\n",
       "        vertical-align: middle;\n",
       "    }\n",
       "\n",
       "    .dataframe tbody tr th {\n",
       "        vertical-align: top;\n",
       "    }\n",
       "\n",
       "    .dataframe thead th {\n",
       "        text-align: right;\n",
       "    }\n",
       "</style>\n",
       "<table border=\"1\" class=\"dataframe\">\n",
       "  <thead>\n",
       "    <tr style=\"text-align: right;\">\n",
       "      <th></th>\n",
       "      <th>sexo</th>\n",
       "      <th>tipo_trabalho</th>\n",
       "      <th>tipo_residencia</th>\n",
       "      <th>status_tabagismo</th>\n",
       "    </tr>\n",
       "  </thead>\n",
       "  <tbody>\n",
       "    <tr>\n",
       "      <th>count</th>\n",
       "      <td>43400</td>\n",
       "      <td>43400</td>\n",
       "      <td>43400</td>\n",
       "      <td>30108</td>\n",
       "    </tr>\n",
       "    <tr>\n",
       "      <th>unique</th>\n",
       "      <td>3</td>\n",
       "      <td>5</td>\n",
       "      <td>2</td>\n",
       "      <td>3</td>\n",
       "    </tr>\n",
       "    <tr>\n",
       "      <th>top</th>\n",
       "      <td>Feminino</td>\n",
       "      <td>Privado</td>\n",
       "      <td>Urbana</td>\n",
       "      <td>nunca fumou</td>\n",
       "    </tr>\n",
       "    <tr>\n",
       "      <th>freq</th>\n",
       "      <td>25665</td>\n",
       "      <td>24834</td>\n",
       "      <td>21756</td>\n",
       "      <td>16053</td>\n",
       "    </tr>\n",
       "  </tbody>\n",
       "</table>\n",
       "</div>"
      ],
      "text/plain": [
       "            sexo tipo_trabalho tipo_residencia status_tabagismo\n",
       "count      43400         43400           43400            30108\n",
       "unique         3             5               2                3\n",
       "top     Feminino       Privado          Urbana      nunca fumou\n",
       "freq       25665         24834           21756            16053"
      ]
     },
     "execution_count": 14,
     "metadata": {},
     "output_type": "execute_result"
    }
   ],
   "source": [
    "# Descrevendo as variáveis categóricas\n",
    "dataset[dfcatname].describe()"
   ]
  },
  {
   "cell_type": "markdown",
   "metadata": {},
   "source": [
    "### 3.2 - Tratamento de Valores Missing no IMC"
   ]
  },
  {
   "cell_type": "code",
   "execution_count": 15,
   "metadata": {},
   "outputs": [
    {
     "data": {
      "text/html": [
       "<div>\n",
       "<style scoped>\n",
       "    .dataframe tbody tr th:only-of-type {\n",
       "        vertical-align: middle;\n",
       "    }\n",
       "\n",
       "    .dataframe tbody tr th {\n",
       "        vertical-align: top;\n",
       "    }\n",
       "\n",
       "    .dataframe thead th {\n",
       "        text-align: right;\n",
       "    }\n",
       "</style>\n",
       "<table border=\"1\" class=\"dataframe\">\n",
       "  <thead>\n",
       "    <tr style=\"text-align: right;\">\n",
       "      <th></th>\n",
       "      <th>idade</th>\n",
       "      <th>hipertensao</th>\n",
       "      <th>doenca_coracao</th>\n",
       "      <th>media_nivel_glicose</th>\n",
       "      <th>imc</th>\n",
       "      <th>avc</th>\n",
       "    </tr>\n",
       "  </thead>\n",
       "  <tbody>\n",
       "    <tr>\n",
       "      <th>count</th>\n",
       "      <td>43400.000000</td>\n",
       "      <td>43400.000000</td>\n",
       "      <td>43400.000000</td>\n",
       "      <td>43400.000000</td>\n",
       "      <td>41938.000000</td>\n",
       "      <td>43400.000000</td>\n",
       "    </tr>\n",
       "    <tr>\n",
       "      <th>mean</th>\n",
       "      <td>42.217894</td>\n",
       "      <td>0.093571</td>\n",
       "      <td>0.047512</td>\n",
       "      <td>104.482750</td>\n",
       "      <td>28.605038</td>\n",
       "      <td>0.018041</td>\n",
       "    </tr>\n",
       "    <tr>\n",
       "      <th>std</th>\n",
       "      <td>22.519649</td>\n",
       "      <td>0.291235</td>\n",
       "      <td>0.212733</td>\n",
       "      <td>43.111751</td>\n",
       "      <td>7.770020</td>\n",
       "      <td>0.133103</td>\n",
       "    </tr>\n",
       "    <tr>\n",
       "      <th>min</th>\n",
       "      <td>0.080000</td>\n",
       "      <td>0.000000</td>\n",
       "      <td>0.000000</td>\n",
       "      <td>55.000000</td>\n",
       "      <td>10.100000</td>\n",
       "      <td>0.000000</td>\n",
       "    </tr>\n",
       "    <tr>\n",
       "      <th>25%</th>\n",
       "      <td>24.000000</td>\n",
       "      <td>0.000000</td>\n",
       "      <td>0.000000</td>\n",
       "      <td>77.540000</td>\n",
       "      <td>23.200000</td>\n",
       "      <td>0.000000</td>\n",
       "    </tr>\n",
       "    <tr>\n",
       "      <th>50%</th>\n",
       "      <td>44.000000</td>\n",
       "      <td>0.000000</td>\n",
       "      <td>0.000000</td>\n",
       "      <td>91.580000</td>\n",
       "      <td>27.700000</td>\n",
       "      <td>0.000000</td>\n",
       "    </tr>\n",
       "    <tr>\n",
       "      <th>75%</th>\n",
       "      <td>60.000000</td>\n",
       "      <td>0.000000</td>\n",
       "      <td>0.000000</td>\n",
       "      <td>112.070000</td>\n",
       "      <td>32.900000</td>\n",
       "      <td>0.000000</td>\n",
       "    </tr>\n",
       "    <tr>\n",
       "      <th>max</th>\n",
       "      <td>82.000000</td>\n",
       "      <td>1.000000</td>\n",
       "      <td>1.000000</td>\n",
       "      <td>291.050000</td>\n",
       "      <td>97.600000</td>\n",
       "      <td>1.000000</td>\n",
       "    </tr>\n",
       "  </tbody>\n",
       "</table>\n",
       "</div>"
      ],
      "text/plain": [
       "              idade   hipertensao  doenca_coracao  media_nivel_glicose  \\\n",
       "count  43400.000000  43400.000000    43400.000000         43400.000000   \n",
       "mean      42.217894      0.093571        0.047512           104.482750   \n",
       "std       22.519649      0.291235        0.212733            43.111751   \n",
       "min        0.080000      0.000000        0.000000            55.000000   \n",
       "25%       24.000000      0.000000        0.000000            77.540000   \n",
       "50%       44.000000      0.000000        0.000000            91.580000   \n",
       "75%       60.000000      0.000000        0.000000           112.070000   \n",
       "max       82.000000      1.000000        1.000000           291.050000   \n",
       "\n",
       "                imc           avc  \n",
       "count  41938.000000  43400.000000  \n",
       "mean      28.605038      0.018041  \n",
       "std        7.770020      0.133103  \n",
       "min       10.100000      0.000000  \n",
       "25%       23.200000      0.000000  \n",
       "50%       27.700000      0.000000  \n",
       "75%       32.900000      0.000000  \n",
       "max       97.600000      1.000000  "
      ]
     },
     "execution_count": 15,
     "metadata": {},
     "output_type": "execute_result"
    }
   ],
   "source": [
    "# Coletando estatísticas das colunas\n",
    "dataset.describe()"
   ]
  },
  {
   "cell_type": "markdown",
   "metadata": {},
   "source": [
    "Pela análise acima, vemos que a variável \"imc\" está com valores ausentes "
   ]
  },
  {
   "cell_type": "code",
   "execution_count": 19,
   "metadata": {
    "scrolled": false
   },
   "outputs": [
    {
     "data": {
      "text/plain": [
       "count    41938.000000\n",
       "mean        28.605038\n",
       "std          7.770020\n",
       "min         10.100000\n",
       "25%         23.200000\n",
       "50%         27.700000\n",
       "75%         32.900000\n",
       "max         97.600000\n",
       "Name: imc, dtype: float64"
      ]
     },
     "execution_count": 19,
     "metadata": {},
     "output_type": "execute_result"
    }
   ],
   "source": [
    "# Descrevendo a coluna IMC\n",
    "dataset['imc'].describe()"
   ]
  },
  {
   "cell_type": "code",
   "execution_count": 20,
   "metadata": {},
   "outputs": [
    {
     "data": {
      "text/plain": [
       "1462"
      ]
     },
     "execution_count": 20,
     "metadata": {},
     "output_type": "execute_result"
    }
   ],
   "source": [
    "# Checando por valores missing\n",
    "dataset['imc'].isnull().sum() "
   ]
  },
  {
   "cell_type": "markdown",
   "metadata": {},
   "source": [
    "Uma forma de tratarmos esses valores ausentes, seria simplesmente removê-los. No nosso caso, teríamos que remover 1462/43400, o que é relativamente pequeno.\n",
    "\n",
    "Outra opção, seria fazer imputação, como a média ou mediana. Para verificar tal possibilidade, vamos fazer o histograma."
   ]
  },
  {
   "cell_type": "code",
   "execution_count": 21,
   "metadata": {
    "scrolled": true
   },
   "outputs": [
    {
     "data": {
      "text/plain": [
       "array([[<matplotlib.axes._subplots.AxesSubplot object at 0x0ADDF628>]],\n",
       "      dtype=object)"
      ]
     },
     "execution_count": 21,
     "metadata": {},
     "output_type": "execute_result"
    },
    {
     "data": {
      "image/png": "[encoded data removed]",
      "text/plain": [
       "<Figure size 648x432 with 1 Axes>"
      ]
     },
     "metadata": {
      "needs_background": "light"
     },
     "output_type": "display_data"
    }
   ],
   "source": [
    "dataset.hist(column = 'imc', figsize=(9,6), bins=20)"
   ]
  },
  {
   "cell_type": "markdown",
   "metadata": {},
   "source": [
    "Vê-se no histograma que o valor de IMC entre 20 e 40 é o mais comum, portanto, não é totalmente irracional utilizá-lo no lugar de valores missing."
   ]
  },
  {
   "cell_type": "markdown",
   "metadata": {},
   "source": [
    "Vamos imputar a média no lugar de valores ausentes."
   ]
  },
  {
   "cell_type": "code",
   "execution_count": 22,
   "metadata": {},
   "outputs": [],
   "source": [
    "# Gera o novo imc; Onde for nulo, preenche com a média, senão, mantemos o valor atual.\n",
    "\n",
    "novo_imc = np.where(dataset['imc'].isnull(), dataset['imc'].mean(), dataset['imc'])"
   ]
  },
  {
   "cell_type": "code",
   "execution_count": 23,
   "metadata": {},
   "outputs": [
    {
     "data": {
      "text/plain": [
       "array([18. , 39.2, 17.6, ..., 28.9, 33.2, 20.6])"
      ]
     },
     "execution_count": 23,
     "metadata": {},
     "output_type": "execute_result"
    }
   ],
   "source": [
    "novo_imc"
   ]
  },
  {
   "cell_type": "code",
   "execution_count": 24,
   "metadata": {
    "scrolled": true
   },
   "outputs": [],
   "source": [
    "# Grava o novo valor do imc no dataset\n",
    "dataset['imc'] = novo_imc"
   ]
  },
  {
   "cell_type": "code",
   "execution_count": 25,
   "metadata": {},
   "outputs": [
    {
     "data": {
      "text/plain": [
       "count    43400.000000\n",
       "mean        28.605038\n",
       "std          7.638023\n",
       "min         10.100000\n",
       "25%         23.400000\n",
       "50%         28.100000\n",
       "75%         32.600000\n",
       "max         97.600000\n",
       "Name: imc, dtype: float64"
      ]
     },
     "execution_count": 25,
     "metadata": {},
     "output_type": "execute_result"
    }
   ],
   "source": [
    "dataset['imc'].describe()"
   ]
  },
  {
   "cell_type": "code",
   "execution_count": 26,
   "metadata": {},
   "outputs": [
    {
     "data": {
      "text/plain": [
       "array([[<matplotlib.axes._subplots.AxesSubplot object at 0x0AE22F40>]],\n",
       "      dtype=object)"
      ]
     },
     "execution_count": 26,
     "metadata": {},
     "output_type": "execute_result"
    },
    {
     "data": {
      "image/png": "[encoded data removed]",
      "text/plain": [
       "<Figure size 648x432 with 1 Axes>"
      ]
     },
     "metadata": {
      "needs_background": "light"
     },
     "output_type": "display_data"
    }
   ],
   "source": [
    "# Checando o histograma\n",
    "dataset.hist(column = 'imc', figsize=(9,6), bins=20)"
   ]
  },
  {
   "cell_type": "markdown",
   "metadata": {},
   "source": [
    "### 3.3 - Tratamento de Valores Missing no Status de Tabagismo"
   ]
  },
  {
   "cell_type": "code",
   "execution_count": 27,
   "metadata": {},
   "outputs": [
    {
     "data": {
      "text/html": [
       "<div>\n",
       "<style scoped>\n",
       "    .dataframe tbody tr th:only-of-type {\n",
       "        vertical-align: middle;\n",
       "    }\n",
       "\n",
       "    .dataframe tbody tr th {\n",
       "        vertical-align: top;\n",
       "    }\n",
       "\n",
       "    .dataframe thead th {\n",
       "        text-align: right;\n",
       "    }\n",
       "</style>\n",
       "<table border=\"1\" class=\"dataframe\">\n",
       "  <thead>\n",
       "    <tr style=\"text-align: right;\">\n",
       "      <th></th>\n",
       "      <th>sexo</th>\n",
       "      <th>tipo_trabalho</th>\n",
       "      <th>tipo_residencia</th>\n",
       "      <th>status_tabagismo</th>\n",
       "    </tr>\n",
       "  </thead>\n",
       "  <tbody>\n",
       "    <tr>\n",
       "      <th>count</th>\n",
       "      <td>43400</td>\n",
       "      <td>43400</td>\n",
       "      <td>43400</td>\n",
       "      <td>30108</td>\n",
       "    </tr>\n",
       "    <tr>\n",
       "      <th>unique</th>\n",
       "      <td>3</td>\n",
       "      <td>5</td>\n",
       "      <td>2</td>\n",
       "      <td>3</td>\n",
       "    </tr>\n",
       "    <tr>\n",
       "      <th>top</th>\n",
       "      <td>Feminino</td>\n",
       "      <td>Privado</td>\n",
       "      <td>Urbana</td>\n",
       "      <td>nunca fumou</td>\n",
       "    </tr>\n",
       "    <tr>\n",
       "      <th>freq</th>\n",
       "      <td>25665</td>\n",
       "      <td>24834</td>\n",
       "      <td>21756</td>\n",
       "      <td>16053</td>\n",
       "    </tr>\n",
       "  </tbody>\n",
       "</table>\n",
       "</div>"
      ],
      "text/plain": [
       "            sexo tipo_trabalho tipo_residencia status_tabagismo\n",
       "count      43400         43400           43400            30108\n",
       "unique         3             5               2                3\n",
       "top     Feminino       Privado          Urbana      nunca fumou\n",
       "freq       25665         24834           21756            16053"
      ]
     },
     "execution_count": 27,
     "metadata": {},
     "output_type": "execute_result"
    }
   ],
   "source": [
    "# Descrevendo as variáveis categóricas\n",
    "dataset[dfcatname].describe()"
   ]
  },
  {
   "cell_type": "markdown",
   "metadata": {},
   "source": [
    "Pela análise acima, vemos que a variável \"status_tabagismo\" contém valores ausentes"
   ]
  },
  {
   "cell_type": "code",
   "execution_count": 28,
   "metadata": {},
   "outputs": [
    {
     "data": {
      "text/plain": [
       "count           30108\n",
       "unique              3\n",
       "top       nunca fumou\n",
       "freq            16053\n",
       "Name: status_tabagismo, dtype: object"
      ]
     },
     "execution_count": 28,
     "metadata": {},
     "output_type": "execute_result"
    }
   ],
   "source": [
    "dataset['status_tabagismo'].describe()"
   ]
  },
  {
   "cell_type": "code",
   "execution_count": 29,
   "metadata": {},
   "outputs": [
    {
     "data": {
      "text/plain": [
       "13292"
      ]
     },
     "execution_count": 29,
     "metadata": {},
     "output_type": "execute_result"
    }
   ],
   "source": [
    "dataset['status_tabagismo'].isnull().sum() "
   ]
  },
  {
   "cell_type": "code",
   "execution_count": 30,
   "metadata": {},
   "outputs": [
    {
     "data": {
      "text/plain": [
       "nunca fumou           16053\n",
       "fuma eventualmente     7493\n",
       "fuma                   6562\n",
       "Name: status_tabagismo, dtype: int64"
      ]
     },
     "execution_count": 30,
     "metadata": {},
     "output_type": "execute_result"
    }
   ],
   "source": [
    "dataset['status_tabagismo'].value_counts()"
   ]
  },
  {
   "cell_type": "code",
   "execution_count": 31,
   "metadata": {},
   "outputs": [
    {
     "data": {
      "text/plain": [
       "<matplotlib.axes._subplots.AxesSubplot at 0xae56508>"
      ]
     },
     "execution_count": 31,
     "metadata": {},
     "output_type": "execute_result"
    },
    {
     "data": {
      "image/png": "[encoded data removed]",
      "text/plain": [
       "<Figure size 432x288 with 1 Axes>"
      ]
     },
     "metadata": {
      "needs_background": "light"
     },
     "output_type": "display_data"
    }
   ],
   "source": [
    "dataset['status_tabagismo'].value_counts().plot(kind='bar')"
   ]
  },
  {
   "cell_type": "markdown",
   "metadata": {},
   "source": [
    "A princípio, vamos preencher os valores missing com uma nova categoria chamada \"desconhecido\"."
   ]
  },
  {
   "cell_type": "code",
   "execution_count": 32,
   "metadata": {},
   "outputs": [],
   "source": [
    "novo_status_tabagismo = np.where(dataset['status_tabagismo'].isnull(), \"desconhecido\", dataset['status_tabagismo'])"
   ]
  },
  {
   "cell_type": "code",
   "execution_count": 33,
   "metadata": {},
   "outputs": [],
   "source": [
    "dataset['status_tabagismo'] = novo_status_tabagismo"
   ]
  },
  {
   "cell_type": "code",
   "execution_count": 34,
   "metadata": {
    "scrolled": true
   },
   "outputs": [
    {
     "data": {
      "text/plain": [
       "<matplotlib.axes._subplots.AxesSubplot at 0xaf4faa8>"
      ]
     },
     "execution_count": 34,
     "metadata": {},
     "output_type": "execute_result"
    },
    {
     "data": {
      "image/png": "[encoded data removed]",
      "text/plain": [
       "<Figure size 432x288 with 1 Axes>"
      ]
     },
     "metadata": {
      "needs_background": "light"
     },
     "output_type": "display_data"
    }
   ],
   "source": [
    "dataset['status_tabagismo'].value_counts().plot(kind='bar')"
   ]
  },
  {
   "cell_type": "code",
   "execution_count": 35,
   "metadata": {},
   "outputs": [
    {
     "data": {
      "text/plain": [
       "sexo                   43400\n",
       "idade                  43400\n",
       "hipertensao            43400\n",
       "doenca_coracao         43400\n",
       "tipo_trabalho          43400\n",
       "tipo_residencia        43400\n",
       "media_nivel_glicose    43400\n",
       "imc                    43400\n",
       "status_tabagismo       43400\n",
       "avc                    43400\n",
       "dtype: int64"
      ]
     },
     "execution_count": 35,
     "metadata": {},
     "output_type": "execute_result"
    }
   ],
   "source": [
    "dataset.count()"
   ]
  },
  {
   "cell_type": "markdown",
   "metadata": {},
   "source": [
    "### 3.4 - Tratamento de Outliers"
   ]
  },
  {
   "cell_type": "code",
   "execution_count": 36,
   "metadata": {},
   "outputs": [
    {
     "data": {
      "text/html": [
       "<div>\n",
       "<style scoped>\n",
       "    .dataframe tbody tr th:only-of-type {\n",
       "        vertical-align: middle;\n",
       "    }\n",
       "\n",
       "    .dataframe tbody tr th {\n",
       "        vertical-align: top;\n",
       "    }\n",
       "\n",
       "    .dataframe thead th {\n",
       "        text-align: right;\n",
       "    }\n",
       "</style>\n",
       "<table border=\"1\" class=\"dataframe\">\n",
       "  <thead>\n",
       "    <tr style=\"text-align: right;\">\n",
       "      <th></th>\n",
       "      <th>idade</th>\n",
       "      <th>hipertensao</th>\n",
       "      <th>doenca_coracao</th>\n",
       "      <th>media_nivel_glicose</th>\n",
       "      <th>imc</th>\n",
       "      <th>avc</th>\n",
       "    </tr>\n",
       "  </thead>\n",
       "  <tbody>\n",
       "    <tr>\n",
       "      <th>0</th>\n",
       "      <td>3.0</td>\n",
       "      <td>0</td>\n",
       "      <td>0</td>\n",
       "      <td>95.12</td>\n",
       "      <td>18.0</td>\n",
       "      <td>0</td>\n",
       "    </tr>\n",
       "    <tr>\n",
       "      <th>1</th>\n",
       "      <td>58.0</td>\n",
       "      <td>1</td>\n",
       "      <td>0</td>\n",
       "      <td>87.96</td>\n",
       "      <td>39.2</td>\n",
       "      <td>0</td>\n",
       "    </tr>\n",
       "    <tr>\n",
       "      <th>2</th>\n",
       "      <td>8.0</td>\n",
       "      <td>0</td>\n",
       "      <td>0</td>\n",
       "      <td>110.89</td>\n",
       "      <td>17.6</td>\n",
       "      <td>0</td>\n",
       "    </tr>\n",
       "    <tr>\n",
       "      <th>3</th>\n",
       "      <td>70.0</td>\n",
       "      <td>0</td>\n",
       "      <td>0</td>\n",
       "      <td>69.04</td>\n",
       "      <td>35.9</td>\n",
       "      <td>0</td>\n",
       "    </tr>\n",
       "    <tr>\n",
       "      <th>4</th>\n",
       "      <td>14.0</td>\n",
       "      <td>0</td>\n",
       "      <td>0</td>\n",
       "      <td>161.28</td>\n",
       "      <td>19.1</td>\n",
       "      <td>0</td>\n",
       "    </tr>\n",
       "    <tr>\n",
       "      <th>...</th>\n",
       "      <td>...</td>\n",
       "      <td>...</td>\n",
       "      <td>...</td>\n",
       "      <td>...</td>\n",
       "      <td>...</td>\n",
       "      <td>...</td>\n",
       "    </tr>\n",
       "    <tr>\n",
       "      <th>43395</th>\n",
       "      <td>10.0</td>\n",
       "      <td>0</td>\n",
       "      <td>0</td>\n",
       "      <td>58.64</td>\n",
       "      <td>20.4</td>\n",
       "      <td>0</td>\n",
       "    </tr>\n",
       "    <tr>\n",
       "      <th>43396</th>\n",
       "      <td>56.0</td>\n",
       "      <td>0</td>\n",
       "      <td>0</td>\n",
       "      <td>213.61</td>\n",
       "      <td>55.4</td>\n",
       "      <td>0</td>\n",
       "    </tr>\n",
       "    <tr>\n",
       "      <th>43397</th>\n",
       "      <td>82.0</td>\n",
       "      <td>1</td>\n",
       "      <td>0</td>\n",
       "      <td>91.94</td>\n",
       "      <td>28.9</td>\n",
       "      <td>0</td>\n",
       "    </tr>\n",
       "    <tr>\n",
       "      <th>43398</th>\n",
       "      <td>40.0</td>\n",
       "      <td>0</td>\n",
       "      <td>0</td>\n",
       "      <td>99.16</td>\n",
       "      <td>33.2</td>\n",
       "      <td>0</td>\n",
       "    </tr>\n",
       "    <tr>\n",
       "      <th>43399</th>\n",
       "      <td>82.0</td>\n",
       "      <td>0</td>\n",
       "      <td>0</td>\n",
       "      <td>79.48</td>\n",
       "      <td>20.6</td>\n",
       "      <td>0</td>\n",
       "    </tr>\n",
       "  </tbody>\n",
       "</table>\n",
       "<p>43400 rows × 6 columns</p>\n",
       "</div>"
      ],
      "text/plain": [
       "       idade  hipertensao  doenca_coracao  media_nivel_glicose   imc  avc\n",
       "0        3.0            0               0                95.12  18.0    0\n",
       "1       58.0            1               0                87.96  39.2    0\n",
       "2        8.0            0               0               110.89  17.6    0\n",
       "3       70.0            0               0                69.04  35.9    0\n",
       "4       14.0            0               0               161.28  19.1    0\n",
       "...      ...          ...             ...                  ...   ...  ...\n",
       "43395   10.0            0               0                58.64  20.4    0\n",
       "43396   56.0            0               0               213.61  55.4    0\n",
       "43397   82.0            1               0                91.94  28.9    0\n",
       "43398   40.0            0               0                99.16  33.2    0\n",
       "43399   82.0            0               0                79.48  20.6    0\n",
       "\n",
       "[43400 rows x 6 columns]"
      ]
     },
     "execution_count": 36,
     "metadata": {},
     "output_type": "execute_result"
    }
   ],
   "source": [
    "dataset[dfconname]"
   ]
  },
  {
   "cell_type": "markdown",
   "metadata": {},
   "source": [
    "Vamos verificar os valores mínimos e máximso de cada uma das variáveis 'idade', 'media_nivel_glicose' e 'imc'"
   ]
  },
  {
   "cell_type": "code",
   "execution_count": 37,
   "metadata": {},
   "outputs": [
    {
     "data": {
      "text/plain": [
       "count    43400.000000\n",
       "mean        42.217894\n",
       "std         22.519649\n",
       "min          0.080000\n",
       "25%         24.000000\n",
       "50%         44.000000\n",
       "75%         60.000000\n",
       "max         82.000000\n",
       "Name: idade, dtype: float64"
      ]
     },
     "execution_count": 37,
     "metadata": {},
     "output_type": "execute_result"
    }
   ],
   "source": [
    "dataset[dfconname[0]].describe()"
   ]
  },
  {
   "cell_type": "code",
   "execution_count": 38,
   "metadata": {},
   "outputs": [
    {
     "data": {
      "text/plain": [
       "count    43400.000000\n",
       "mean       104.482750\n",
       "std         43.111751\n",
       "min         55.000000\n",
       "25%         77.540000\n",
       "50%         91.580000\n",
       "75%        112.070000\n",
       "max        291.050000\n",
       "Name: media_nivel_glicose, dtype: float64"
      ]
     },
     "execution_count": 38,
     "metadata": {},
     "output_type": "execute_result"
    }
   ],
   "source": [
    "dataset[dfconname[3]].describe()"
   ]
  },
  {
   "cell_type": "code",
   "execution_count": 39,
   "metadata": {},
   "outputs": [
    {
     "data": {
      "text/plain": [
       "count    43400.000000\n",
       "mean        28.605038\n",
       "std          7.638023\n",
       "min         10.100000\n",
       "25%         23.400000\n",
       "50%         28.100000\n",
       "75%         32.600000\n",
       "max         97.600000\n",
       "Name: imc, dtype: float64"
      ]
     },
     "execution_count": 39,
     "metadata": {},
     "output_type": "execute_result"
    }
   ],
   "source": [
    "dataset[dfconname[4]].describe()"
   ]
  },
  {
   "cell_type": "code",
   "execution_count": 40,
   "metadata": {
    "scrolled": false
   },
   "outputs": [
    {
     "data": {
      "text/plain": [
       "<matplotlib.axes._subplots.AxesSubplot at 0xaf59b98>"
      ]
     },
     "execution_count": 40,
     "metadata": {},
     "output_type": "execute_result"
    },
    {
     "data": {
      "image/png": "[encoded data removed]",
      "text/plain": [
       "<Figure size 648x648 with 1 Axes>"
      ]
     },
     "metadata": {
      "needs_background": "light"
     },
     "output_type": "display_data"
    }
   ],
   "source": [
    "# Verificando outliers para recursos numéricos em nosso conjunto de dados; Variável media_nivel_glicose\n",
    "\n",
    "dataset[dfconname[3]].plot(kind=\"box\", figsize=(9,9))"
   ]
  },
  {
   "cell_type": "code",
   "execution_count": 41,
   "metadata": {
    "scrolled": false
   },
   "outputs": [],
   "source": [
    "# Removendo outliers\n",
    "index1 = np.where(dataset[\"media_nivel_glicose\"] == max(dataset[\"media_nivel_glicose\"]) )"
   ]
  },
  {
   "cell_type": "code",
   "execution_count": 43,
   "metadata": {},
   "outputs": [
    {
     "data": {
      "text/html": [
       "<div>\n",
       "<style scoped>\n",
       "    .dataframe tbody tr th:only-of-type {\n",
       "        vertical-align: middle;\n",
       "    }\n",
       "\n",
       "    .dataframe tbody tr th {\n",
       "        vertical-align: top;\n",
       "    }\n",
       "\n",
       "    .dataframe thead th {\n",
       "        text-align: right;\n",
       "    }\n",
       "</style>\n",
       "<table border=\"1\" class=\"dataframe\">\n",
       "  <thead>\n",
       "    <tr style=\"text-align: right;\">\n",
       "      <th></th>\n",
       "      <th>sexo</th>\n",
       "      <th>idade</th>\n",
       "      <th>hipertensao</th>\n",
       "      <th>doenca_coracao</th>\n",
       "      <th>tipo_trabalho</th>\n",
       "      <th>tipo_residencia</th>\n",
       "      <th>media_nivel_glicose</th>\n",
       "      <th>imc</th>\n",
       "      <th>status_tabagismo</th>\n",
       "      <th>avc</th>\n",
       "    </tr>\n",
       "  </thead>\n",
       "  <tbody>\n",
       "    <tr>\n",
       "      <th>38446</th>\n",
       "      <td>Feminino</td>\n",
       "      <td>80.0</td>\n",
       "      <td>0</td>\n",
       "      <td>0</td>\n",
       "      <td>Privado</td>\n",
       "      <td>Rural</td>\n",
       "      <td>291.05</td>\n",
       "      <td>28.7</td>\n",
       "      <td>nunca fumou</td>\n",
       "      <td>0</td>\n",
       "    </tr>\n",
       "  </tbody>\n",
       "</table>\n",
       "</div>"
      ],
      "text/plain": [
       "           sexo  idade  hipertensao  doenca_coracao tipo_trabalho  \\\n",
       "38446  Feminino   80.0            0               0       Privado   \n",
       "\n",
       "      tipo_residencia  media_nivel_glicose   imc status_tabagismo  avc  \n",
       "38446           Rural               291.05  28.7      nunca fumou    0  "
      ]
     },
     "execution_count": 43,
     "metadata": {},
     "output_type": "execute_result"
    }
   ],
   "source": [
    "#localizando o outlier\n",
    "dataset.loc[index1]"
   ]
  },
  {
   "cell_type": "code",
   "execution_count": 44,
   "metadata": {},
   "outputs": [],
   "source": [
    "dataset = dataset.drop(index1[0])"
   ]
  },
  {
   "cell_type": "code",
   "execution_count": 45,
   "metadata": {},
   "outputs": [
    {
     "data": {
      "text/plain": [
       "<matplotlib.axes._subplots.AxesSubplot at 0xb180490>"
      ]
     },
     "execution_count": 45,
     "metadata": {},
     "output_type": "execute_result"
    },
    {
     "data": {
      "image/png": "[encoded data removed]",
      "text/plain": [
       "<Figure size 648x648 with 1 Axes>"
      ]
     },
     "metadata": {
      "needs_background": "light"
     },
     "output_type": "display_data"
    }
   ],
   "source": [
    "# Verificando novamente a variável 'media_nivel_glicose'\n",
    "dataset[dfconname[3]].plot(kind=\"box\", figsize=(9,9))"
   ]
  },
  {
   "cell_type": "code",
   "execution_count": 46,
   "metadata": {
    "scrolled": false
   },
   "outputs": [
    {
     "data": {
      "text/plain": [
       "<matplotlib.axes._subplots.AxesSubplot at 0xb156be0>"
      ]
     },
     "execution_count": 46,
     "metadata": {},
     "output_type": "execute_result"
    },
    {
     "data": {
      "image/png": "[encoded data removed]",
      "text/plain": [
       "<Figure size 648x648 with 1 Axes>"
      ]
     },
     "metadata": {
      "needs_background": "light"
     },
     "output_type": "display_data"
    }
   ],
   "source": [
    "# Verificando outliers para recursos numéricos em nosso conjunto de dados; Variável imc\n",
    "dataset[dfconname[4]].plot(kind=\"box\", figsize=(9,9))"
   ]
  },
  {
   "cell_type": "code",
   "execution_count": 47,
   "metadata": {
    "scrolled": true
   },
   "outputs": [],
   "source": [
    "index2 = np.where(dataset[\"imc\"] == max(dataset[\"imc\"]) )"
   ]
  },
  {
   "cell_type": "code",
   "execution_count": 48,
   "metadata": {
    "scrolled": true
   },
   "outputs": [
    {
     "data": {
      "text/html": [
       "<div>\n",
       "<style scoped>\n",
       "    .dataframe tbody tr th:only-of-type {\n",
       "        vertical-align: middle;\n",
       "    }\n",
       "\n",
       "    .dataframe tbody tr th {\n",
       "        vertical-align: top;\n",
       "    }\n",
       "\n",
       "    .dataframe thead th {\n",
       "        text-align: right;\n",
       "    }\n",
       "</style>\n",
       "<table border=\"1\" class=\"dataframe\">\n",
       "  <thead>\n",
       "    <tr style=\"text-align: right;\">\n",
       "      <th></th>\n",
       "      <th>sexo</th>\n",
       "      <th>idade</th>\n",
       "      <th>hipertensao</th>\n",
       "      <th>doenca_coracao</th>\n",
       "      <th>tipo_trabalho</th>\n",
       "      <th>tipo_residencia</th>\n",
       "      <th>media_nivel_glicose</th>\n",
       "      <th>imc</th>\n",
       "      <th>status_tabagismo</th>\n",
       "      <th>avc</th>\n",
       "    </tr>\n",
       "  </thead>\n",
       "  <tbody>\n",
       "    <tr>\n",
       "      <th>1913</th>\n",
       "      <td>Masculino</td>\n",
       "      <td>17.0</td>\n",
       "      <td>1</td>\n",
       "      <td>0</td>\n",
       "      <td>Privado</td>\n",
       "      <td>Rural</td>\n",
       "      <td>61.67</td>\n",
       "      <td>97.6</td>\n",
       "      <td>desconhecido</td>\n",
       "      <td>0</td>\n",
       "    </tr>\n",
       "  </tbody>\n",
       "</table>\n",
       "</div>"
      ],
      "text/plain": [
       "           sexo  idade  hipertensao  doenca_coracao tipo_trabalho  \\\n",
       "1913  Masculino   17.0            1               0       Privado   \n",
       "\n",
       "     tipo_residencia  media_nivel_glicose   imc status_tabagismo  avc  \n",
       "1913           Rural                61.67  97.6     desconhecido    0  "
      ]
     },
     "execution_count": 48,
     "metadata": {},
     "output_type": "execute_result"
    }
   ],
   "source": [
    "dataset.loc[index2]"
   ]
  },
  {
   "cell_type": "markdown",
   "metadata": {},
   "source": [
    "O valor máximo que o IMC pode chegar é 54. Em nosso banco de dados temos alguns valores que ultrapassam isso e podem interferir nas métricas. Sendo assim, vamos fazer um corte e remover todos com valores maiores do que 60."
   ]
  },
  {
   "cell_type": "code",
   "execution_count": 49,
   "metadata": {
    "scrolled": true
   },
   "outputs": [],
   "source": [
    "dataset = dataset[dataset['imc'] < 60]"
   ]
  },
  {
   "cell_type": "code",
   "execution_count": 50,
   "metadata": {},
   "outputs": [
    {
     "data": {
      "text/plain": [
       "sexo                   43309\n",
       "idade                  43309\n",
       "hipertensao            43309\n",
       "doenca_coracao         43309\n",
       "tipo_trabalho          43309\n",
       "tipo_residencia        43309\n",
       "media_nivel_glicose    43309\n",
       "imc                    43309\n",
       "status_tabagismo       43309\n",
       "avc                    43309\n",
       "dtype: int64"
      ]
     },
     "execution_count": 50,
     "metadata": {},
     "output_type": "execute_result"
    }
   ],
   "source": [
    "dataset.count()"
   ]
  },
  {
   "cell_type": "code",
   "execution_count": 51,
   "metadata": {
    "scrolled": true
   },
   "outputs": [
    {
     "data": {
      "text/html": [
       "<div>\n",
       "<style scoped>\n",
       "    .dataframe tbody tr th:only-of-type {\n",
       "        vertical-align: middle;\n",
       "    }\n",
       "\n",
       "    .dataframe tbody tr th {\n",
       "        vertical-align: top;\n",
       "    }\n",
       "\n",
       "    .dataframe thead th {\n",
       "        text-align: right;\n",
       "    }\n",
       "</style>\n",
       "<table border=\"1\" class=\"dataframe\">\n",
       "  <thead>\n",
       "    <tr style=\"text-align: right;\">\n",
       "      <th></th>\n",
       "      <th>idade</th>\n",
       "      <th>hipertensao</th>\n",
       "      <th>doenca_coracao</th>\n",
       "      <th>media_nivel_glicose</th>\n",
       "      <th>imc</th>\n",
       "      <th>avc</th>\n",
       "    </tr>\n",
       "  </thead>\n",
       "  <tbody>\n",
       "    <tr>\n",
       "      <th>count</th>\n",
       "      <td>43309.000000</td>\n",
       "      <td>43309.00000</td>\n",
       "      <td>43309.000000</td>\n",
       "      <td>43309.000000</td>\n",
       "      <td>43309.000000</td>\n",
       "      <td>43309.000000</td>\n",
       "    </tr>\n",
       "    <tr>\n",
       "      <th>mean</th>\n",
       "      <td>42.213087</td>\n",
       "      <td>0.09326</td>\n",
       "      <td>0.047542</td>\n",
       "      <td>104.442117</td>\n",
       "      <td>28.526248</td>\n",
       "      <td>0.018079</td>\n",
       "    </tr>\n",
       "    <tr>\n",
       "      <th>std</th>\n",
       "      <td>22.533671</td>\n",
       "      <td>0.29080</td>\n",
       "      <td>0.212798</td>\n",
       "      <td>43.060134</td>\n",
       "      <td>7.438084</td>\n",
       "      <td>0.133240</td>\n",
       "    </tr>\n",
       "    <tr>\n",
       "      <th>min</th>\n",
       "      <td>0.080000</td>\n",
       "      <td>0.00000</td>\n",
       "      <td>0.000000</td>\n",
       "      <td>55.000000</td>\n",
       "      <td>10.100000</td>\n",
       "      <td>0.000000</td>\n",
       "    </tr>\n",
       "    <tr>\n",
       "      <th>25%</th>\n",
       "      <td>24.000000</td>\n",
       "      <td>0.00000</td>\n",
       "      <td>0.000000</td>\n",
       "      <td>77.540000</td>\n",
       "      <td>23.400000</td>\n",
       "      <td>0.000000</td>\n",
       "    </tr>\n",
       "    <tr>\n",
       "      <th>50%</th>\n",
       "      <td>44.000000</td>\n",
       "      <td>0.00000</td>\n",
       "      <td>0.000000</td>\n",
       "      <td>91.570000</td>\n",
       "      <td>28.000000</td>\n",
       "      <td>0.000000</td>\n",
       "    </tr>\n",
       "    <tr>\n",
       "      <th>75%</th>\n",
       "      <td>60.000000</td>\n",
       "      <td>0.00000</td>\n",
       "      <td>0.000000</td>\n",
       "      <td>112.030000</td>\n",
       "      <td>32.600000</td>\n",
       "      <td>0.000000</td>\n",
       "    </tr>\n",
       "    <tr>\n",
       "      <th>max</th>\n",
       "      <td>82.000000</td>\n",
       "      <td>1.00000</td>\n",
       "      <td>1.000000</td>\n",
       "      <td>281.590000</td>\n",
       "      <td>59.900000</td>\n",
       "      <td>1.000000</td>\n",
       "    </tr>\n",
       "  </tbody>\n",
       "</table>\n",
       "</div>"
      ],
      "text/plain": [
       "              idade  hipertensao  doenca_coracao  media_nivel_glicose  \\\n",
       "count  43309.000000  43309.00000    43309.000000         43309.000000   \n",
       "mean      42.213087      0.09326        0.047542           104.442117   \n",
       "std       22.533671      0.29080        0.212798            43.060134   \n",
       "min        0.080000      0.00000        0.000000            55.000000   \n",
       "25%       24.000000      0.00000        0.000000            77.540000   \n",
       "50%       44.000000      0.00000        0.000000            91.570000   \n",
       "75%       60.000000      0.00000        0.000000           112.030000   \n",
       "max       82.000000      1.00000        1.000000           281.590000   \n",
       "\n",
       "                imc           avc  \n",
       "count  43309.000000  43309.000000  \n",
       "mean      28.526248      0.018079  \n",
       "std        7.438084      0.133240  \n",
       "min       10.100000      0.000000  \n",
       "25%       23.400000      0.000000  \n",
       "50%       28.000000      0.000000  \n",
       "75%       32.600000      0.000000  \n",
       "max       59.900000      1.000000  "
      ]
     },
     "execution_count": 51,
     "metadata": {},
     "output_type": "execute_result"
    }
   ],
   "source": [
    "dataset.describe()"
   ]
  },
  {
   "cell_type": "code",
   "execution_count": 52,
   "metadata": {},
   "outputs": [
    {
     "data": {
      "text/html": [
       "<div>\n",
       "<style scoped>\n",
       "    .dataframe tbody tr th:only-of-type {\n",
       "        vertical-align: middle;\n",
       "    }\n",
       "\n",
       "    .dataframe tbody tr th {\n",
       "        vertical-align: top;\n",
       "    }\n",
       "\n",
       "    .dataframe thead th {\n",
       "        text-align: right;\n",
       "    }\n",
       "</style>\n",
       "<table border=\"1\" class=\"dataframe\">\n",
       "  <thead>\n",
       "    <tr style=\"text-align: right;\">\n",
       "      <th></th>\n",
       "      <th>sexo</th>\n",
       "      <th>idade</th>\n",
       "      <th>hipertensao</th>\n",
       "      <th>doenca_coracao</th>\n",
       "      <th>tipo_trabalho</th>\n",
       "      <th>tipo_residencia</th>\n",
       "      <th>media_nivel_glicose</th>\n",
       "      <th>imc</th>\n",
       "      <th>status_tabagismo</th>\n",
       "      <th>avc</th>\n",
       "    </tr>\n",
       "  </thead>\n",
       "  <tbody>\n",
       "    <tr>\n",
       "      <th>0</th>\n",
       "      <td>Masculino</td>\n",
       "      <td>3.0</td>\n",
       "      <td>0</td>\n",
       "      <td>0</td>\n",
       "      <td>crianca</td>\n",
       "      <td>Rural</td>\n",
       "      <td>95.12</td>\n",
       "      <td>18.0</td>\n",
       "      <td>desconhecido</td>\n",
       "      <td>0</td>\n",
       "    </tr>\n",
       "    <tr>\n",
       "      <th>1</th>\n",
       "      <td>Masculino</td>\n",
       "      <td>58.0</td>\n",
       "      <td>1</td>\n",
       "      <td>0</td>\n",
       "      <td>Privado</td>\n",
       "      <td>Urbana</td>\n",
       "      <td>87.96</td>\n",
       "      <td>39.2</td>\n",
       "      <td>nunca fumou</td>\n",
       "      <td>0</td>\n",
       "    </tr>\n",
       "    <tr>\n",
       "      <th>2</th>\n",
       "      <td>Feminino</td>\n",
       "      <td>8.0</td>\n",
       "      <td>0</td>\n",
       "      <td>0</td>\n",
       "      <td>Privado</td>\n",
       "      <td>Urbana</td>\n",
       "      <td>110.89</td>\n",
       "      <td>17.6</td>\n",
       "      <td>desconhecido</td>\n",
       "      <td>0</td>\n",
       "    </tr>\n",
       "    <tr>\n",
       "      <th>3</th>\n",
       "      <td>Feminino</td>\n",
       "      <td>70.0</td>\n",
       "      <td>0</td>\n",
       "      <td>0</td>\n",
       "      <td>Privado</td>\n",
       "      <td>Rural</td>\n",
       "      <td>69.04</td>\n",
       "      <td>35.9</td>\n",
       "      <td>fuma eventualmente</td>\n",
       "      <td>0</td>\n",
       "    </tr>\n",
       "    <tr>\n",
       "      <th>4</th>\n",
       "      <td>Masculino</td>\n",
       "      <td>14.0</td>\n",
       "      <td>0</td>\n",
       "      <td>0</td>\n",
       "      <td>Nunca_trabalhou</td>\n",
       "      <td>Rural</td>\n",
       "      <td>161.28</td>\n",
       "      <td>19.1</td>\n",
       "      <td>desconhecido</td>\n",
       "      <td>0</td>\n",
       "    </tr>\n",
       "  </tbody>\n",
       "</table>\n",
       "</div>"
      ],
      "text/plain": [
       "        sexo  idade  hipertensao  doenca_coracao    tipo_trabalho  \\\n",
       "0  Masculino    3.0            0               0          crianca   \n",
       "1  Masculino   58.0            1               0          Privado   \n",
       "2   Feminino    8.0            0               0          Privado   \n",
       "3   Feminino   70.0            0               0          Privado   \n",
       "4  Masculino   14.0            0               0  Nunca_trabalhou   \n",
       "\n",
       "  tipo_residencia  media_nivel_glicose   imc    status_tabagismo  avc  \n",
       "0           Rural                95.12  18.0        desconhecido    0  \n",
       "1          Urbana                87.96  39.2         nunca fumou    0  \n",
       "2          Urbana               110.89  17.6        desconhecido    0  \n",
       "3           Rural                69.04  35.9  fuma eventualmente    0  \n",
       "4           Rural               161.28  19.1        desconhecido    0  "
      ]
     },
     "execution_count": 52,
     "metadata": {},
     "output_type": "execute_result"
    }
   ],
   "source": [
    "dataset.head()"
   ]
  },
  {
   "cell_type": "markdown",
   "metadata": {},
   "source": [
    "### 3.5 - Convertendo Variáveis Categóricas em Valores Numéricos"
   ]
  },
  {
   "cell_type": "markdown",
   "metadata": {},
   "source": [
    "Analisando os tipos únicos das variáveis categóricas"
   ]
  },
  {
   "cell_type": "code",
   "execution_count": 53,
   "metadata": {
    "scrolled": false
   },
   "outputs": [
    {
     "data": {
      "text/html": [
       "<div>\n",
       "<style scoped>\n",
       "    .dataframe tbody tr th:only-of-type {\n",
       "        vertical-align: middle;\n",
       "    }\n",
       "\n",
       "    .dataframe tbody tr th {\n",
       "        vertical-align: top;\n",
       "    }\n",
       "\n",
       "    .dataframe thead th {\n",
       "        text-align: right;\n",
       "    }\n",
       "</style>\n",
       "<table border=\"1\" class=\"dataframe\">\n",
       "  <thead>\n",
       "    <tr style=\"text-align: right;\">\n",
       "      <th></th>\n",
       "      <th>sexo</th>\n",
       "      <th>tipo_trabalho</th>\n",
       "      <th>tipo_residencia</th>\n",
       "      <th>status_tabagismo</th>\n",
       "    </tr>\n",
       "  </thead>\n",
       "  <tbody>\n",
       "    <tr>\n",
       "      <th>0</th>\n",
       "      <td>Masculino</td>\n",
       "      <td>crianca</td>\n",
       "      <td>Rural</td>\n",
       "      <td>desconhecido</td>\n",
       "    </tr>\n",
       "    <tr>\n",
       "      <th>1</th>\n",
       "      <td>Masculino</td>\n",
       "      <td>Privado</td>\n",
       "      <td>Urbana</td>\n",
       "      <td>nunca fumou</td>\n",
       "    </tr>\n",
       "    <tr>\n",
       "      <th>2</th>\n",
       "      <td>Feminino</td>\n",
       "      <td>Privado</td>\n",
       "      <td>Urbana</td>\n",
       "      <td>desconhecido</td>\n",
       "    </tr>\n",
       "    <tr>\n",
       "      <th>3</th>\n",
       "      <td>Feminino</td>\n",
       "      <td>Privado</td>\n",
       "      <td>Rural</td>\n",
       "      <td>fuma eventualmente</td>\n",
       "    </tr>\n",
       "    <tr>\n",
       "      <th>4</th>\n",
       "      <td>Masculino</td>\n",
       "      <td>Nunca_trabalhou</td>\n",
       "      <td>Rural</td>\n",
       "      <td>desconhecido</td>\n",
       "    </tr>\n",
       "  </tbody>\n",
       "</table>\n",
       "</div>"
      ],
      "text/plain": [
       "        sexo    tipo_trabalho tipo_residencia    status_tabagismo\n",
       "0  Masculino          crianca           Rural        desconhecido\n",
       "1  Masculino          Privado          Urbana         nunca fumou\n",
       "2   Feminino          Privado          Urbana        desconhecido\n",
       "3   Feminino          Privado           Rural  fuma eventualmente\n",
       "4  Masculino  Nunca_trabalhou           Rural        desconhecido"
      ]
     },
     "execution_count": 53,
     "metadata": {},
     "output_type": "execute_result"
    }
   ],
   "source": [
    "dataset[dfcatname].head()"
   ]
  },
  {
   "cell_type": "code",
   "execution_count": 54,
   "metadata": {},
   "outputs": [
    {
     "data": {
      "text/html": [
       "<div>\n",
       "<style scoped>\n",
       "    .dataframe tbody tr th:only-of-type {\n",
       "        vertical-align: middle;\n",
       "    }\n",
       "\n",
       "    .dataframe tbody tr th {\n",
       "        vertical-align: top;\n",
       "    }\n",
       "\n",
       "    .dataframe thead th {\n",
       "        text-align: right;\n",
       "    }\n",
       "</style>\n",
       "<table border=\"1\" class=\"dataframe\">\n",
       "  <thead>\n",
       "    <tr style=\"text-align: right;\">\n",
       "      <th></th>\n",
       "      <th>sexo</th>\n",
       "      <th>tipo_trabalho</th>\n",
       "      <th>tipo_residencia</th>\n",
       "      <th>status_tabagismo</th>\n",
       "    </tr>\n",
       "  </thead>\n",
       "  <tbody>\n",
       "    <tr>\n",
       "      <th>count</th>\n",
       "      <td>43309</td>\n",
       "      <td>43309</td>\n",
       "      <td>43309</td>\n",
       "      <td>43309</td>\n",
       "    </tr>\n",
       "    <tr>\n",
       "      <th>unique</th>\n",
       "      <td>3</td>\n",
       "      <td>5</td>\n",
       "      <td>2</td>\n",
       "      <td>4</td>\n",
       "    </tr>\n",
       "    <tr>\n",
       "      <th>top</th>\n",
       "      <td>Feminino</td>\n",
       "      <td>Privado</td>\n",
       "      <td>Urbana</td>\n",
       "      <td>nunca fumou</td>\n",
       "    </tr>\n",
       "    <tr>\n",
       "      <th>freq</th>\n",
       "      <td>25605</td>\n",
       "      <td>24770</td>\n",
       "      <td>21712</td>\n",
       "      <td>16016</td>\n",
       "    </tr>\n",
       "  </tbody>\n",
       "</table>\n",
       "</div>"
      ],
      "text/plain": [
       "            sexo tipo_trabalho tipo_residencia status_tabagismo\n",
       "count      43309         43309           43309            43309\n",
       "unique         3             5               2                4\n",
       "top     Feminino       Privado          Urbana      nunca fumou\n",
       "freq       25605         24770           21712            16016"
      ]
     },
     "execution_count": 54,
     "metadata": {},
     "output_type": "execute_result"
    }
   ],
   "source": [
    "dataset[dfcatname].describe()"
   ]
  },
  {
   "cell_type": "code",
   "execution_count": 55,
   "metadata": {},
   "outputs": [
    {
     "data": {
      "text/plain": [
       "array(['Masculino', 'Feminino', 'Outro'], dtype=object)"
      ]
     },
     "execution_count": 55,
     "metadata": {},
     "output_type": "execute_result"
    }
   ],
   "source": [
    "dataset['sexo'].unique()"
   ]
  },
  {
   "cell_type": "code",
   "execution_count": 56,
   "metadata": {},
   "outputs": [
    {
     "data": {
      "text/plain": [
       "array(['Rural', 'Urbana'], dtype=object)"
      ]
     },
     "execution_count": 56,
     "metadata": {},
     "output_type": "execute_result"
    }
   ],
   "source": [
    "dataset['tipo_residencia'].unique()"
   ]
  },
  {
   "cell_type": "markdown",
   "metadata": {},
   "source": [
    "Nas variáveis com 3 ou menos categorias, usaremos Label Encoding. No caso, 'sexo' e 'tipo_residencia'."
   ]
  },
  {
   "cell_type": "code",
   "execution_count": 57,
   "metadata": {},
   "outputs": [],
   "source": [
    "dataset['sexo'] = dataset['sexo'].astype('category')"
   ]
  },
  {
   "cell_type": "code",
   "execution_count": 58,
   "metadata": {},
   "outputs": [],
   "source": [
    "dataset['tipo_residencia'] = dataset['tipo_residencia'].astype('category')"
   ]
  },
  {
   "cell_type": "code",
   "execution_count": 59,
   "metadata": {},
   "outputs": [],
   "source": [
    "dataset['sexo'] = dataset['sexo'].cat.codes"
   ]
  },
  {
   "cell_type": "code",
   "execution_count": 60,
   "metadata": {},
   "outputs": [],
   "source": [
    "dataset['tipo_residencia'] = dataset['tipo_residencia'].cat.codes"
   ]
  },
  {
   "cell_type": "code",
   "execution_count": 61,
   "metadata": {},
   "outputs": [
    {
     "data": {
      "text/html": [
       "<div>\n",
       "<style scoped>\n",
       "    .dataframe tbody tr th:only-of-type {\n",
       "        vertical-align: middle;\n",
       "    }\n",
       "\n",
       "    .dataframe tbody tr th {\n",
       "        vertical-align: top;\n",
       "    }\n",
       "\n",
       "    .dataframe thead th {\n",
       "        text-align: right;\n",
       "    }\n",
       "</style>\n",
       "<table border=\"1\" class=\"dataframe\">\n",
       "  <thead>\n",
       "    <tr style=\"text-align: right;\">\n",
       "      <th></th>\n",
       "      <th>sexo</th>\n",
       "      <th>idade</th>\n",
       "      <th>hipertensao</th>\n",
       "      <th>doenca_coracao</th>\n",
       "      <th>tipo_trabalho</th>\n",
       "      <th>tipo_residencia</th>\n",
       "      <th>media_nivel_glicose</th>\n",
       "      <th>imc</th>\n",
       "      <th>status_tabagismo</th>\n",
       "      <th>avc</th>\n",
       "    </tr>\n",
       "  </thead>\n",
       "  <tbody>\n",
       "    <tr>\n",
       "      <th>0</th>\n",
       "      <td>1</td>\n",
       "      <td>3.0</td>\n",
       "      <td>0</td>\n",
       "      <td>0</td>\n",
       "      <td>crianca</td>\n",
       "      <td>0</td>\n",
       "      <td>95.12</td>\n",
       "      <td>18.0</td>\n",
       "      <td>desconhecido</td>\n",
       "      <td>0</td>\n",
       "    </tr>\n",
       "    <tr>\n",
       "      <th>1</th>\n",
       "      <td>1</td>\n",
       "      <td>58.0</td>\n",
       "      <td>1</td>\n",
       "      <td>0</td>\n",
       "      <td>Privado</td>\n",
       "      <td>1</td>\n",
       "      <td>87.96</td>\n",
       "      <td>39.2</td>\n",
       "      <td>nunca fumou</td>\n",
       "      <td>0</td>\n",
       "    </tr>\n",
       "    <tr>\n",
       "      <th>2</th>\n",
       "      <td>0</td>\n",
       "      <td>8.0</td>\n",
       "      <td>0</td>\n",
       "      <td>0</td>\n",
       "      <td>Privado</td>\n",
       "      <td>1</td>\n",
       "      <td>110.89</td>\n",
       "      <td>17.6</td>\n",
       "      <td>desconhecido</td>\n",
       "      <td>0</td>\n",
       "    </tr>\n",
       "    <tr>\n",
       "      <th>3</th>\n",
       "      <td>0</td>\n",
       "      <td>70.0</td>\n",
       "      <td>0</td>\n",
       "      <td>0</td>\n",
       "      <td>Privado</td>\n",
       "      <td>0</td>\n",
       "      <td>69.04</td>\n",
       "      <td>35.9</td>\n",
       "      <td>fuma eventualmente</td>\n",
       "      <td>0</td>\n",
       "    </tr>\n",
       "    <tr>\n",
       "      <th>4</th>\n",
       "      <td>1</td>\n",
       "      <td>14.0</td>\n",
       "      <td>0</td>\n",
       "      <td>0</td>\n",
       "      <td>Nunca_trabalhou</td>\n",
       "      <td>0</td>\n",
       "      <td>161.28</td>\n",
       "      <td>19.1</td>\n",
       "      <td>desconhecido</td>\n",
       "      <td>0</td>\n",
       "    </tr>\n",
       "  </tbody>\n",
       "</table>\n",
       "</div>"
      ],
      "text/plain": [
       "   sexo  idade  hipertensao  doenca_coracao    tipo_trabalho  tipo_residencia  \\\n",
       "0     1    3.0            0               0          crianca                0   \n",
       "1     1   58.0            1               0          Privado                1   \n",
       "2     0    8.0            0               0          Privado                1   \n",
       "3     0   70.0            0               0          Privado                0   \n",
       "4     1   14.0            0               0  Nunca_trabalhou                0   \n",
       "\n",
       "   media_nivel_glicose   imc    status_tabagismo  avc  \n",
       "0                95.12  18.0        desconhecido    0  \n",
       "1                87.96  39.2         nunca fumou    0  \n",
       "2               110.89  17.6        desconhecido    0  \n",
       "3                69.04  35.9  fuma eventualmente    0  \n",
       "4               161.28  19.1        desconhecido    0  "
      ]
     },
     "execution_count": 61,
     "metadata": {},
     "output_type": "execute_result"
    }
   ],
   "source": [
    "dataset.head()"
   ]
  },
  {
   "cell_type": "markdown",
   "metadata": {},
   "source": [
    "Nas colunas com 3 ou mais categorias, usaremos One-Hot Encoding. Essa técnica aumentará o número de colunas no nosso conjunto de dados. No caso, será a coluna 'tipo_trabalho' e 'status_tabagismo'."
   ]
  },
  {
   "cell_type": "code",
   "execution_count": 62,
   "metadata": {},
   "outputs": [],
   "source": [
    "dataset = pd.get_dummies(dataset, columns = ['tipo_trabalho','status_tabagismo'], prefix = [\"trabalho\",'tabagismo'])"
   ]
  },
  {
   "cell_type": "code",
   "execution_count": 63,
   "metadata": {},
   "outputs": [
    {
     "data": {
      "text/html": [
       "<div>\n",
       "<style scoped>\n",
       "    .dataframe tbody tr th:only-of-type {\n",
       "        vertical-align: middle;\n",
       "    }\n",
       "\n",
       "    .dataframe tbody tr th {\n",
       "        vertical-align: top;\n",
       "    }\n",
       "\n",
       "    .dataframe thead th {\n",
       "        text-align: right;\n",
       "    }\n",
       "</style>\n",
       "<table border=\"1\" class=\"dataframe\">\n",
       "  <thead>\n",
       "    <tr style=\"text-align: right;\">\n",
       "      <th></th>\n",
       "      <th>sexo</th>\n",
       "      <th>idade</th>\n",
       "      <th>hipertensao</th>\n",
       "      <th>doenca_coracao</th>\n",
       "      <th>tipo_residencia</th>\n",
       "      <th>media_nivel_glicose</th>\n",
       "      <th>imc</th>\n",
       "      <th>avc</th>\n",
       "      <th>trabalho_Autonomo</th>\n",
       "      <th>trabalho_Nunca_trabalhou</th>\n",
       "      <th>trabalho_Privado</th>\n",
       "      <th>trabalho_Servidor_Publico</th>\n",
       "      <th>trabalho_crianca</th>\n",
       "      <th>tabagismo_desconhecido</th>\n",
       "      <th>tabagismo_fuma</th>\n",
       "      <th>tabagismo_fuma eventualmente</th>\n",
       "      <th>tabagismo_nunca fumou</th>\n",
       "    </tr>\n",
       "  </thead>\n",
       "  <tbody>\n",
       "    <tr>\n",
       "      <th>0</th>\n",
       "      <td>1</td>\n",
       "      <td>3.0</td>\n",
       "      <td>0</td>\n",
       "      <td>0</td>\n",
       "      <td>0</td>\n",
       "      <td>95.12</td>\n",
       "      <td>18.0</td>\n",
       "      <td>0</td>\n",
       "      <td>0</td>\n",
       "      <td>0</td>\n",
       "      <td>0</td>\n",
       "      <td>0</td>\n",
       "      <td>1</td>\n",
       "      <td>1</td>\n",
       "      <td>0</td>\n",
       "      <td>0</td>\n",
       "      <td>0</td>\n",
       "    </tr>\n",
       "    <tr>\n",
       "      <th>1</th>\n",
       "      <td>1</td>\n",
       "      <td>58.0</td>\n",
       "      <td>1</td>\n",
       "      <td>0</td>\n",
       "      <td>1</td>\n",
       "      <td>87.96</td>\n",
       "      <td>39.2</td>\n",
       "      <td>0</td>\n",
       "      <td>0</td>\n",
       "      <td>0</td>\n",
       "      <td>1</td>\n",
       "      <td>0</td>\n",
       "      <td>0</td>\n",
       "      <td>0</td>\n",
       "      <td>0</td>\n",
       "      <td>0</td>\n",
       "      <td>1</td>\n",
       "    </tr>\n",
       "    <tr>\n",
       "      <th>2</th>\n",
       "      <td>0</td>\n",
       "      <td>8.0</td>\n",
       "      <td>0</td>\n",
       "      <td>0</td>\n",
       "      <td>1</td>\n",
       "      <td>110.89</td>\n",
       "      <td>17.6</td>\n",
       "      <td>0</td>\n",
       "      <td>0</td>\n",
       "      <td>0</td>\n",
       "      <td>1</td>\n",
       "      <td>0</td>\n",
       "      <td>0</td>\n",
       "      <td>1</td>\n",
       "      <td>0</td>\n",
       "      <td>0</td>\n",
       "      <td>0</td>\n",
       "    </tr>\n",
       "    <tr>\n",
       "      <th>3</th>\n",
       "      <td>0</td>\n",
       "      <td>70.0</td>\n",
       "      <td>0</td>\n",
       "      <td>0</td>\n",
       "      <td>0</td>\n",
       "      <td>69.04</td>\n",
       "      <td>35.9</td>\n",
       "      <td>0</td>\n",
       "      <td>0</td>\n",
       "      <td>0</td>\n",
       "      <td>1</td>\n",
       "      <td>0</td>\n",
       "      <td>0</td>\n",
       "      <td>0</td>\n",
       "      <td>0</td>\n",
       "      <td>1</td>\n",
       "      <td>0</td>\n",
       "    </tr>\n",
       "    <tr>\n",
       "      <th>4</th>\n",
       "      <td>1</td>\n",
       "      <td>14.0</td>\n",
       "      <td>0</td>\n",
       "      <td>0</td>\n",
       "      <td>0</td>\n",
       "      <td>161.28</td>\n",
       "      <td>19.1</td>\n",
       "      <td>0</td>\n",
       "      <td>0</td>\n",
       "      <td>1</td>\n",
       "      <td>0</td>\n",
       "      <td>0</td>\n",
       "      <td>0</td>\n",
       "      <td>1</td>\n",
       "      <td>0</td>\n",
       "      <td>0</td>\n",
       "      <td>0</td>\n",
       "    </tr>\n",
       "  </tbody>\n",
       "</table>\n",
       "</div>"
      ],
      "text/plain": [
       "   sexo  idade  hipertensao  doenca_coracao  tipo_residencia  \\\n",
       "0     1    3.0            0               0                0   \n",
       "1     1   58.0            1               0                1   \n",
       "2     0    8.0            0               0                1   \n",
       "3     0   70.0            0               0                0   \n",
       "4     1   14.0            0               0                0   \n",
       "\n",
       "   media_nivel_glicose   imc  avc  trabalho_Autonomo  \\\n",
       "0                95.12  18.0    0                  0   \n",
       "1                87.96  39.2    0                  0   \n",
       "2               110.89  17.6    0                  0   \n",
       "3                69.04  35.9    0                  0   \n",
       "4               161.28  19.1    0                  0   \n",
       "\n",
       "   trabalho_Nunca_trabalhou  trabalho_Privado  trabalho_Servidor_Publico  \\\n",
       "0                         0                 0                          0   \n",
       "1                         0                 1                          0   \n",
       "2                         0                 1                          0   \n",
       "3                         0                 1                          0   \n",
       "4                         1                 0                          0   \n",
       "\n",
       "   trabalho_crianca  tabagismo_desconhecido  tabagismo_fuma  \\\n",
       "0                 1                       1               0   \n",
       "1                 0                       0               0   \n",
       "2                 0                       1               0   \n",
       "3                 0                       0               0   \n",
       "4                 0                       1               0   \n",
       "\n",
       "   tabagismo_fuma eventualmente  tabagismo_nunca fumou  \n",
       "0                             0                      0  \n",
       "1                             0                      1  \n",
       "2                             0                      0  \n",
       "3                             1                      0  \n",
       "4                             0                      0  "
      ]
     },
     "execution_count": 63,
     "metadata": {},
     "output_type": "execute_result"
    }
   ],
   "source": [
    "dataset.head()"
   ]
  },
  {
   "cell_type": "markdown",
   "metadata": {},
   "source": [
    "### 4) Modelagem preditiva - Machine Learning - Classificação"
   ]
  },
  {
   "cell_type": "markdown",
   "metadata": {},
   "source": [
    "Agora vamos usar os dados processados para criar um algoritmo de classificação."
   ]
  },
  {
   "cell_type": "markdown",
   "metadata": {},
   "source": [
    "### 4.1 - Divisão dos dados em treino e teste"
   ]
  },
  {
   "cell_type": "code",
   "execution_count": 64,
   "metadata": {},
   "outputs": [
    {
     "data": {
      "text/html": [
       "<div>\n",
       "<style scoped>\n",
       "    .dataframe tbody tr th:only-of-type {\n",
       "        vertical-align: middle;\n",
       "    }\n",
       "\n",
       "    .dataframe tbody tr th {\n",
       "        vertical-align: top;\n",
       "    }\n",
       "\n",
       "    .dataframe thead th {\n",
       "        text-align: right;\n",
       "    }\n",
       "</style>\n",
       "<table border=\"1\" class=\"dataframe\">\n",
       "  <thead>\n",
       "    <tr style=\"text-align: right;\">\n",
       "      <th></th>\n",
       "      <th>sexo</th>\n",
       "      <th>idade</th>\n",
       "      <th>hipertensao</th>\n",
       "      <th>doenca_coracao</th>\n",
       "      <th>tipo_residencia</th>\n",
       "      <th>media_nivel_glicose</th>\n",
       "      <th>imc</th>\n",
       "      <th>avc</th>\n",
       "      <th>trabalho_Autonomo</th>\n",
       "      <th>trabalho_Nunca_trabalhou</th>\n",
       "      <th>trabalho_Privado</th>\n",
       "      <th>trabalho_Servidor_Publico</th>\n",
       "      <th>trabalho_crianca</th>\n",
       "      <th>tabagismo_desconhecido</th>\n",
       "      <th>tabagismo_fuma</th>\n",
       "      <th>tabagismo_fuma eventualmente</th>\n",
       "      <th>tabagismo_nunca fumou</th>\n",
       "    </tr>\n",
       "  </thead>\n",
       "  <tbody>\n",
       "    <tr>\n",
       "      <th>count</th>\n",
       "      <td>43309.000000</td>\n",
       "      <td>43309.000000</td>\n",
       "      <td>43309.00000</td>\n",
       "      <td>43309.000000</td>\n",
       "      <td>43309.000000</td>\n",
       "      <td>43309.000000</td>\n",
       "      <td>43309.000000</td>\n",
       "      <td>43309.000000</td>\n",
       "      <td>43309.000000</td>\n",
       "      <td>43309.000000</td>\n",
       "      <td>43309.000000</td>\n",
       "      <td>43309.000000</td>\n",
       "      <td>43309.000000</td>\n",
       "      <td>43309.000000</td>\n",
       "      <td>43309.000000</td>\n",
       "      <td>43309.000000</td>\n",
       "      <td>43309.000000</td>\n",
       "    </tr>\n",
       "    <tr>\n",
       "      <th>mean</th>\n",
       "      <td>0.409037</td>\n",
       "      <td>42.213087</td>\n",
       "      <td>0.09326</td>\n",
       "      <td>0.047542</td>\n",
       "      <td>0.501328</td>\n",
       "      <td>104.442117</td>\n",
       "      <td>28.526248</td>\n",
       "      <td>0.018079</td>\n",
       "      <td>0.156480</td>\n",
       "      <td>0.004087</td>\n",
       "      <td>0.571937</td>\n",
       "      <td>0.125378</td>\n",
       "      <td>0.142118</td>\n",
       "      <td>0.306380</td>\n",
       "      <td>0.151123</td>\n",
       "      <td>0.172689</td>\n",
       "      <td>0.369808</td>\n",
       "    </tr>\n",
       "    <tr>\n",
       "      <th>std</th>\n",
       "      <td>0.492178</td>\n",
       "      <td>22.533671</td>\n",
       "      <td>0.29080</td>\n",
       "      <td>0.212798</td>\n",
       "      <td>0.500004</td>\n",
       "      <td>43.060134</td>\n",
       "      <td>7.438084</td>\n",
       "      <td>0.133240</td>\n",
       "      <td>0.363314</td>\n",
       "      <td>0.063799</td>\n",
       "      <td>0.494804</td>\n",
       "      <td>0.331151</td>\n",
       "      <td>0.349175</td>\n",
       "      <td>0.460995</td>\n",
       "      <td>0.358173</td>\n",
       "      <td>0.377983</td>\n",
       "      <td>0.482758</td>\n",
       "    </tr>\n",
       "    <tr>\n",
       "      <th>min</th>\n",
       "      <td>0.000000</td>\n",
       "      <td>0.080000</td>\n",
       "      <td>0.00000</td>\n",
       "      <td>0.000000</td>\n",
       "      <td>0.000000</td>\n",
       "      <td>55.000000</td>\n",
       "      <td>10.100000</td>\n",
       "      <td>0.000000</td>\n",
       "      <td>0.000000</td>\n",
       "      <td>0.000000</td>\n",
       "      <td>0.000000</td>\n",
       "      <td>0.000000</td>\n",
       "      <td>0.000000</td>\n",
       "      <td>0.000000</td>\n",
       "      <td>0.000000</td>\n",
       "      <td>0.000000</td>\n",
       "      <td>0.000000</td>\n",
       "    </tr>\n",
       "    <tr>\n",
       "      <th>25%</th>\n",
       "      <td>0.000000</td>\n",
       "      <td>24.000000</td>\n",
       "      <td>0.00000</td>\n",
       "      <td>0.000000</td>\n",
       "      <td>0.000000</td>\n",
       "      <td>77.540000</td>\n",
       "      <td>23.400000</td>\n",
       "      <td>0.000000</td>\n",
       "      <td>0.000000</td>\n",
       "      <td>0.000000</td>\n",
       "      <td>0.000000</td>\n",
       "      <td>0.000000</td>\n",
       "      <td>0.000000</td>\n",
       "      <td>0.000000</td>\n",
       "      <td>0.000000</td>\n",
       "      <td>0.000000</td>\n",
       "      <td>0.000000</td>\n",
       "    </tr>\n",
       "    <tr>\n",
       "      <th>50%</th>\n",
       "      <td>0.000000</td>\n",
       "      <td>44.000000</td>\n",
       "      <td>0.00000</td>\n",
       "      <td>0.000000</td>\n",
       "      <td>1.000000</td>\n",
       "      <td>91.570000</td>\n",
       "      <td>28.000000</td>\n",
       "      <td>0.000000</td>\n",
       "      <td>0.000000</td>\n",
       "      <td>0.000000</td>\n",
       "      <td>1.000000</td>\n",
       "      <td>0.000000</td>\n",
       "      <td>0.000000</td>\n",
       "      <td>0.000000</td>\n",
       "      <td>0.000000</td>\n",
       "      <td>0.000000</td>\n",
       "      <td>0.000000</td>\n",
       "    </tr>\n",
       "    <tr>\n",
       "      <th>75%</th>\n",
       "      <td>1.000000</td>\n",
       "      <td>60.000000</td>\n",
       "      <td>0.00000</td>\n",
       "      <td>0.000000</td>\n",
       "      <td>1.000000</td>\n",
       "      <td>112.030000</td>\n",
       "      <td>32.600000</td>\n",
       "      <td>0.000000</td>\n",
       "      <td>0.000000</td>\n",
       "      <td>0.000000</td>\n",
       "      <td>1.000000</td>\n",
       "      <td>0.000000</td>\n",
       "      <td>0.000000</td>\n",
       "      <td>1.000000</td>\n",
       "      <td>0.000000</td>\n",
       "      <td>0.000000</td>\n",
       "      <td>1.000000</td>\n",
       "    </tr>\n",
       "    <tr>\n",
       "      <th>max</th>\n",
       "      <td>2.000000</td>\n",
       "      <td>82.000000</td>\n",
       "      <td>1.00000</td>\n",
       "      <td>1.000000</td>\n",
       "      <td>1.000000</td>\n",
       "      <td>281.590000</td>\n",
       "      <td>59.900000</td>\n",
       "      <td>1.000000</td>\n",
       "      <td>1.000000</td>\n",
       "      <td>1.000000</td>\n",
       "      <td>1.000000</td>\n",
       "      <td>1.000000</td>\n",
       "      <td>1.000000</td>\n",
       "      <td>1.000000</td>\n",
       "      <td>1.000000</td>\n",
       "      <td>1.000000</td>\n",
       "      <td>1.000000</td>\n",
       "    </tr>\n",
       "  </tbody>\n",
       "</table>\n",
       "</div>"
      ],
      "text/plain": [
       "               sexo         idade  hipertensao  doenca_coracao  \\\n",
       "count  43309.000000  43309.000000  43309.00000    43309.000000   \n",
       "mean       0.409037     42.213087      0.09326        0.047542   \n",
       "std        0.492178     22.533671      0.29080        0.212798   \n",
       "min        0.000000      0.080000      0.00000        0.000000   \n",
       "25%        0.000000     24.000000      0.00000        0.000000   \n",
       "50%        0.000000     44.000000      0.00000        0.000000   \n",
       "75%        1.000000     60.000000      0.00000        0.000000   \n",
       "max        2.000000     82.000000      1.00000        1.000000   \n",
       "\n",
       "       tipo_residencia  media_nivel_glicose           imc           avc  \\\n",
       "count     43309.000000         43309.000000  43309.000000  43309.000000   \n",
       "mean          0.501328           104.442117     28.526248      0.018079   \n",
       "std           0.500004            43.060134      7.438084      0.133240   \n",
       "min           0.000000            55.000000     10.100000      0.000000   \n",
       "25%           0.000000            77.540000     23.400000      0.000000   \n",
       "50%           1.000000            91.570000     28.000000      0.000000   \n",
       "75%           1.000000           112.030000     32.600000      0.000000   \n",
       "max           1.000000           281.590000     59.900000      1.000000   \n",
       "\n",
       "       trabalho_Autonomo  trabalho_Nunca_trabalhou  trabalho_Privado  \\\n",
       "count       43309.000000              43309.000000      43309.000000   \n",
       "mean            0.156480                  0.004087          0.571937   \n",
       "std             0.363314                  0.063799          0.494804   \n",
       "min             0.000000                  0.000000          0.000000   \n",
       "25%             0.000000                  0.000000          0.000000   \n",
       "50%             0.000000                  0.000000          1.000000   \n",
       "75%             0.000000                  0.000000          1.000000   \n",
       "max             1.000000                  1.000000          1.000000   \n",
       "\n",
       "       trabalho_Servidor_Publico  trabalho_crianca  tabagismo_desconhecido  \\\n",
       "count               43309.000000      43309.000000            43309.000000   \n",
       "mean                    0.125378          0.142118                0.306380   \n",
       "std                     0.331151          0.349175                0.460995   \n",
       "min                     0.000000          0.000000                0.000000   \n",
       "25%                     0.000000          0.000000                0.000000   \n",
       "50%                     0.000000          0.000000                0.000000   \n",
       "75%                     0.000000          0.000000                1.000000   \n",
       "max                     1.000000          1.000000                1.000000   \n",
       "\n",
       "       tabagismo_fuma  tabagismo_fuma eventualmente  tabagismo_nunca fumou  \n",
       "count    43309.000000                  43309.000000           43309.000000  \n",
       "mean         0.151123                      0.172689               0.369808  \n",
       "std          0.358173                      0.377983               0.482758  \n",
       "min          0.000000                      0.000000               0.000000  \n",
       "25%          0.000000                      0.000000               0.000000  \n",
       "50%          0.000000                      0.000000               0.000000  \n",
       "75%          0.000000                      0.000000               1.000000  \n",
       "max          1.000000                      1.000000               1.000000  "
      ]
     },
     "execution_count": 64,
     "metadata": {},
     "output_type": "execute_result"
    }
   ],
   "source": [
    "dataset.describe()"
   ]
  },
  {
   "cell_type": "markdown",
   "metadata": {},
   "source": [
    "Vamos dividir os dados em X e Y, sendo que o Y é a minha variável alvo, a que eu quero prever. No nosso caso, será 'avc'."
   ]
  },
  {
   "cell_type": "code",
   "execution_count": 65,
   "metadata": {},
   "outputs": [],
   "source": [
    "# Divisão dos dados em X e Y\n",
    "X = dataset.loc[:, dataset.columns != 'avc']\n",
    "Y = dataset['avc']"
   ]
  },
  {
   "cell_type": "code",
   "execution_count": 66,
   "metadata": {},
   "outputs": [],
   "source": [
    "# Parâmetros para a divisão dos dados em treino e teste\n",
    "seed = 7\n",
    "test_size = 0.33"
   ]
  },
  {
   "cell_type": "markdown",
   "metadata": {},
   "source": [
    "Vamos usar a função 'train_test_split' do framework 'sklearn'"
   ]
  },
  {
   "cell_type": "code",
   "execution_count": 67,
   "metadata": {},
   "outputs": [],
   "source": [
    "# Divisão dos dados em treino e teste\n",
    "from sklearn.model_selection import train_test_split\n",
    "X_treino, X_teste, y_treino, y_teste = train_test_split(X, Y, test_size = test_size, random_state = seed)"
   ]
  },
  {
   "cell_type": "code",
   "execution_count": 68,
   "metadata": {},
   "outputs": [
    {
     "data": {
      "text/plain": [
       "(29017, 16)"
      ]
     },
     "execution_count": 68,
     "metadata": {},
     "output_type": "execute_result"
    }
   ],
   "source": [
    "X_treino.shape"
   ]
  },
  {
   "cell_type": "code",
   "execution_count": 69,
   "metadata": {
    "scrolled": true
   },
   "outputs": [
    {
     "data": {
      "text/plain": [
       "(14292, 16)"
      ]
     },
     "execution_count": 69,
     "metadata": {},
     "output_type": "execute_result"
    }
   ],
   "source": [
    "X_teste.shape"
   ]
  },
  {
   "cell_type": "code",
   "execution_count": 70,
   "metadata": {
    "scrolled": false
   },
   "outputs": [
    {
     "data": {
      "text/plain": [
       "(29017,)"
      ]
     },
     "execution_count": 70,
     "metadata": {},
     "output_type": "execute_result"
    }
   ],
   "source": [
    "y_treino.shape"
   ]
  },
  {
   "cell_type": "code",
   "execution_count": 71,
   "metadata": {},
   "outputs": [
    {
     "data": {
      "text/plain": [
       "(14292,)"
      ]
     },
     "execution_count": 71,
     "metadata": {},
     "output_type": "execute_result"
    }
   ],
   "source": [
    "y_teste.shape"
   ]
  },
  {
   "cell_type": "markdown",
   "metadata": {},
   "source": [
    "### 4.2 - Criando o Classificador"
   ]
  },
  {
   "cell_type": "markdown",
   "metadata": {},
   "source": [
    "Em nosso modelo, vamos usar o algoritmo Random Forest Classifier. Um modelo de aprendizagem supervisionada, que faz parte dos métodos ensemble, um conjunto de árvores de decisão. No qual há a combinação de diferentes modelos para se chegar a um resultado."
   ]
  },
  {
   "cell_type": "code",
   "execution_count": 72,
   "metadata": {
    "scrolled": true
   },
   "outputs": [],
   "source": [
    "# Imports\n",
    "from sklearn.ensemble import RandomForestClassifier\n",
    "import warnings\n",
    "warnings.filterwarnings(\"ignore\")"
   ]
  },
  {
   "cell_type": "code",
   "execution_count": 73,
   "metadata": {},
   "outputs": [],
   "source": [
    "import sklearn as sk"
   ]
  },
  {
   "cell_type": "code",
   "execution_count": 74,
   "metadata": {},
   "outputs": [
    {
     "data": {
      "text/plain": [
       "RandomForestClassifier(bootstrap=True, ccp_alpha=0.0, class_weight=None,\n",
       "                       criterion='gini', max_depth=None, max_features='auto',\n",
       "                       max_leaf_nodes=None, max_samples=None,\n",
       "                       min_impurity_decrease=0.0, min_impurity_split=None,\n",
       "                       min_samples_leaf=1, min_samples_split=2,\n",
       "                       min_weight_fraction_leaf=0.0, n_estimators=100,\n",
       "                       n_jobs=None, oob_score=False, random_state=None,\n",
       "                       verbose=0, warm_start=False)"
      ]
     },
     "execution_count": 74,
     "metadata": {},
     "output_type": "execute_result"
    }
   ],
   "source": [
    "# Cria o classificador\n",
    "modelo = RandomForestClassifier()\n",
    "\n",
    "# Treina e cria o modelo\n",
    "modelo.fit(X_treino, y_treino)"
   ]
  },
  {
   "cell_type": "code",
   "execution_count": 75,
   "metadata": {},
   "outputs": [],
   "source": [
    "# Previsões com dados de teste\n",
    "y_pred = modelo.predict(X_teste)"
   ]
  },
  {
   "cell_type": "markdown",
   "metadata": {},
   "source": [
    "Avaliando as previsões do modelo, utilizando a acurácia."
   ]
  },
  {
   "cell_type": "code",
   "execution_count": 76,
   "metadata": {},
   "outputs": [
    {
     "name": "stdout",
     "output_type": "stream",
     "text": [
      "Acurácia: 98.25%\n"
     ]
    }
   ],
   "source": [
    "# Avaliando as previsões\n",
    "from sklearn.metrics import accuracy_score\n",
    "acuracia = accuracy_score(y_teste, y_pred)\n",
    "print(\"Acurácia: %.2f%%\" % (acuracia * 100.0))"
   ]
  },
  {
   "cell_type": "markdown",
   "metadata": {},
   "source": [
    "### 5) Fazendo Previsões com Novos Dados"
   ]
  },
  {
   "cell_type": "markdown",
   "metadata": {},
   "source": [
    "Uma vez criado o modelo, vamos apresentá-lo novos dados e fazer previsões."
   ]
  },
  {
   "cell_type": "code",
   "execution_count": 77,
   "metadata": {},
   "outputs": [],
   "source": [
    "# Carrega os dados\n",
    "dataset_novos_dados = pd.read_csv('dados/dataset-data-munging-01-novos_dados.csv')"
   ]
  },
  {
   "cell_type": "markdown",
   "metadata": {},
   "source": [
    "### 5.1 - Aplicamos aos novos dados as mesmas manipulações que foram feitas com os dados de treinamento."
   ]
  },
  {
   "cell_type": "code",
   "execution_count": 78,
   "metadata": {},
   "outputs": [],
   "source": [
    "del dataset_novos_dados['casado']"
   ]
  },
  {
   "cell_type": "code",
   "execution_count": 79,
   "metadata": {},
   "outputs": [],
   "source": [
    "novo_status_tabagismo = np.where(dataset_novos_dados['status_tabagismo'].isnull(), \n",
    "                                 \"desconhecido\", \n",
    "                                 dataset_novos_dados['status_tabagismo'])"
   ]
  },
  {
   "cell_type": "code",
   "execution_count": 80,
   "metadata": {},
   "outputs": [],
   "source": [
    "dataset_novos_dados['status_tabagismo'] = novo_status_tabagismo"
   ]
  },
  {
   "cell_type": "code",
   "execution_count": 81,
   "metadata": {
    "scrolled": false
   },
   "outputs": [
    {
     "data": {
      "text/plain": [
       "id                     False\n",
       "sexo                   False\n",
       "idade                  False\n",
       "hipertensao            False\n",
       "doenca_coracao         False\n",
       "tipo_trabalho          False\n",
       "tipo_residencia        False\n",
       "media_nivel_glicose    False\n",
       "imc                     True\n",
       "status_tabagismo       False\n",
       "dtype: bool"
      ]
     },
     "execution_count": 81,
     "metadata": {},
     "output_type": "execute_result"
    }
   ],
   "source": [
    "dataset_novos_dados.isnull().any()"
   ]
  },
  {
   "cell_type": "code",
   "execution_count": 82,
   "metadata": {},
   "outputs": [],
   "source": [
    "novo_imc = np.where(dataset_novos_dados['imc'].isnull(), \n",
    "                    dataset_novos_dados['imc'].mean(), \n",
    "                    dataset_novos_dados['imc'])"
   ]
  },
  {
   "cell_type": "code",
   "execution_count": 83,
   "metadata": {},
   "outputs": [],
   "source": [
    "dataset_novos_dados['imc'] = novo_imc"
   ]
  },
  {
   "cell_type": "code",
   "execution_count": 84,
   "metadata": {},
   "outputs": [
    {
     "data": {
      "text/plain": [
       "id                     False\n",
       "sexo                   False\n",
       "idade                  False\n",
       "hipertensao            False\n",
       "doenca_coracao         False\n",
       "tipo_trabalho          False\n",
       "tipo_residencia        False\n",
       "media_nivel_glicose    False\n",
       "imc                    False\n",
       "status_tabagismo       False\n",
       "dtype: bool"
      ]
     },
     "execution_count": 84,
     "metadata": {},
     "output_type": "execute_result"
    }
   ],
   "source": [
    "dataset_novos_dados.isnull().any()"
   ]
  },
  {
   "cell_type": "code",
   "execution_count": 85,
   "metadata": {
    "scrolled": true
   },
   "outputs": [
    {
     "data": {
      "text/html": [
       "<div>\n",
       "<style scoped>\n",
       "    .dataframe tbody tr th:only-of-type {\n",
       "        vertical-align: middle;\n",
       "    }\n",
       "\n",
       "    .dataframe tbody tr th {\n",
       "        vertical-align: top;\n",
       "    }\n",
       "\n",
       "    .dataframe thead th {\n",
       "        text-align: right;\n",
       "    }\n",
       "</style>\n",
       "<table border=\"1\" class=\"dataframe\">\n",
       "  <thead>\n",
       "    <tr style=\"text-align: right;\">\n",
       "      <th></th>\n",
       "      <th>id</th>\n",
       "      <th>sexo</th>\n",
       "      <th>idade</th>\n",
       "      <th>hipertensao</th>\n",
       "      <th>doenca_coracao</th>\n",
       "      <th>tipo_residencia</th>\n",
       "      <th>media_nivel_glicose</th>\n",
       "      <th>imc</th>\n",
       "      <th>trabalho_Autonomo</th>\n",
       "      <th>trabalho_Never_worked</th>\n",
       "      <th>trabalho_Privado</th>\n",
       "      <th>trabalho_Servidor_Publico</th>\n",
       "      <th>trabalho_crianca</th>\n",
       "      <th>tabagismo_desconhecido</th>\n",
       "      <th>tabagismo_fuma</th>\n",
       "      <th>tabagismo_fuma eventualmente</th>\n",
       "      <th>tabagismo_nunca fumou</th>\n",
       "    </tr>\n",
       "  </thead>\n",
       "  <tbody>\n",
       "    <tr>\n",
       "      <th>0</th>\n",
       "      <td>36306</td>\n",
       "      <td>1</td>\n",
       "      <td>80.0</td>\n",
       "      <td>0</td>\n",
       "      <td>0</td>\n",
       "      <td>1</td>\n",
       "      <td>83.84</td>\n",
       "      <td>21.1</td>\n",
       "      <td>0</td>\n",
       "      <td>0</td>\n",
       "      <td>1</td>\n",
       "      <td>0</td>\n",
       "      <td>0</td>\n",
       "      <td>0</td>\n",
       "      <td>0</td>\n",
       "      <td>1</td>\n",
       "      <td>0</td>\n",
       "    </tr>\n",
       "    <tr>\n",
       "      <th>1</th>\n",
       "      <td>61829</td>\n",
       "      <td>0</td>\n",
       "      <td>74.0</td>\n",
       "      <td>0</td>\n",
       "      <td>1</td>\n",
       "      <td>0</td>\n",
       "      <td>179.50</td>\n",
       "      <td>26.0</td>\n",
       "      <td>1</td>\n",
       "      <td>0</td>\n",
       "      <td>0</td>\n",
       "      <td>0</td>\n",
       "      <td>0</td>\n",
       "      <td>0</td>\n",
       "      <td>0</td>\n",
       "      <td>1</td>\n",
       "      <td>0</td>\n",
       "    </tr>\n",
       "    <tr>\n",
       "      <th>2</th>\n",
       "      <td>14152</td>\n",
       "      <td>0</td>\n",
       "      <td>14.0</td>\n",
       "      <td>0</td>\n",
       "      <td>0</td>\n",
       "      <td>0</td>\n",
       "      <td>95.16</td>\n",
       "      <td>21.2</td>\n",
       "      <td>0</td>\n",
       "      <td>0</td>\n",
       "      <td>0</td>\n",
       "      <td>0</td>\n",
       "      <td>1</td>\n",
       "      <td>1</td>\n",
       "      <td>0</td>\n",
       "      <td>0</td>\n",
       "      <td>0</td>\n",
       "    </tr>\n",
       "    <tr>\n",
       "      <th>3</th>\n",
       "      <td>12997</td>\n",
       "      <td>1</td>\n",
       "      <td>28.0</td>\n",
       "      <td>0</td>\n",
       "      <td>0</td>\n",
       "      <td>1</td>\n",
       "      <td>94.76</td>\n",
       "      <td>23.4</td>\n",
       "      <td>0</td>\n",
       "      <td>0</td>\n",
       "      <td>1</td>\n",
       "      <td>0</td>\n",
       "      <td>0</td>\n",
       "      <td>1</td>\n",
       "      <td>0</td>\n",
       "      <td>0</td>\n",
       "      <td>0</td>\n",
       "    </tr>\n",
       "    <tr>\n",
       "      <th>4</th>\n",
       "      <td>40801</td>\n",
       "      <td>0</td>\n",
       "      <td>63.0</td>\n",
       "      <td>0</td>\n",
       "      <td>0</td>\n",
       "      <td>0</td>\n",
       "      <td>83.57</td>\n",
       "      <td>27.6</td>\n",
       "      <td>0</td>\n",
       "      <td>0</td>\n",
       "      <td>0</td>\n",
       "      <td>1</td>\n",
       "      <td>0</td>\n",
       "      <td>0</td>\n",
       "      <td>0</td>\n",
       "      <td>0</td>\n",
       "      <td>1</td>\n",
       "    </tr>\n",
       "    <tr>\n",
       "      <th>...</th>\n",
       "      <td>...</td>\n",
       "      <td>...</td>\n",
       "      <td>...</td>\n",
       "      <td>...</td>\n",
       "      <td>...</td>\n",
       "      <td>...</td>\n",
       "      <td>...</td>\n",
       "      <td>...</td>\n",
       "      <td>...</td>\n",
       "      <td>...</td>\n",
       "      <td>...</td>\n",
       "      <td>...</td>\n",
       "      <td>...</td>\n",
       "      <td>...</td>\n",
       "      <td>...</td>\n",
       "      <td>...</td>\n",
       "      <td>...</td>\n",
       "    </tr>\n",
       "    <tr>\n",
       "      <th>18596</th>\n",
       "      <td>67353</td>\n",
       "      <td>1</td>\n",
       "      <td>20.0</td>\n",
       "      <td>0</td>\n",
       "      <td>0</td>\n",
       "      <td>0</td>\n",
       "      <td>74.43</td>\n",
       "      <td>18.4</td>\n",
       "      <td>0</td>\n",
       "      <td>0</td>\n",
       "      <td>1</td>\n",
       "      <td>0</td>\n",
       "      <td>0</td>\n",
       "      <td>0</td>\n",
       "      <td>0</td>\n",
       "      <td>1</td>\n",
       "      <td>0</td>\n",
       "    </tr>\n",
       "    <tr>\n",
       "      <th>18597</th>\n",
       "      <td>362</td>\n",
       "      <td>1</td>\n",
       "      <td>61.0</td>\n",
       "      <td>0</td>\n",
       "      <td>0</td>\n",
       "      <td>0</td>\n",
       "      <td>211.55</td>\n",
       "      <td>31.6</td>\n",
       "      <td>0</td>\n",
       "      <td>0</td>\n",
       "      <td>0</td>\n",
       "      <td>1</td>\n",
       "      <td>0</td>\n",
       "      <td>0</td>\n",
       "      <td>1</td>\n",
       "      <td>0</td>\n",
       "      <td>0</td>\n",
       "    </tr>\n",
       "    <tr>\n",
       "      <th>18598</th>\n",
       "      <td>29839</td>\n",
       "      <td>0</td>\n",
       "      <td>79.0</td>\n",
       "      <td>0</td>\n",
       "      <td>0</td>\n",
       "      <td>0</td>\n",
       "      <td>125.74</td>\n",
       "      <td>29.4</td>\n",
       "      <td>0</td>\n",
       "      <td>0</td>\n",
       "      <td>1</td>\n",
       "      <td>0</td>\n",
       "      <td>0</td>\n",
       "      <td>0</td>\n",
       "      <td>0</td>\n",
       "      <td>0</td>\n",
       "      <td>1</td>\n",
       "    </tr>\n",
       "    <tr>\n",
       "      <th>18599</th>\n",
       "      <td>6438</td>\n",
       "      <td>1</td>\n",
       "      <td>55.0</td>\n",
       "      <td>0</td>\n",
       "      <td>0</td>\n",
       "      <td>0</td>\n",
       "      <td>69.46</td>\n",
       "      <td>33.8</td>\n",
       "      <td>0</td>\n",
       "      <td>0</td>\n",
       "      <td>0</td>\n",
       "      <td>1</td>\n",
       "      <td>0</td>\n",
       "      <td>0</td>\n",
       "      <td>0</td>\n",
       "      <td>0</td>\n",
       "      <td>1</td>\n",
       "    </tr>\n",
       "    <tr>\n",
       "      <th>18600</th>\n",
       "      <td>16770</td>\n",
       "      <td>0</td>\n",
       "      <td>38.0</td>\n",
       "      <td>0</td>\n",
       "      <td>0</td>\n",
       "      <td>0</td>\n",
       "      <td>91.23</td>\n",
       "      <td>24.4</td>\n",
       "      <td>0</td>\n",
       "      <td>0</td>\n",
       "      <td>1</td>\n",
       "      <td>0</td>\n",
       "      <td>0</td>\n",
       "      <td>1</td>\n",
       "      <td>0</td>\n",
       "      <td>0</td>\n",
       "      <td>0</td>\n",
       "    </tr>\n",
       "  </tbody>\n",
       "</table>\n",
       "<p>18601 rows × 17 columns</p>\n",
       "</div>"
      ],
      "text/plain": [
       "          id  sexo  idade  hipertensao  doenca_coracao  tipo_residencia  \\\n",
       "0      36306     1   80.0            0               0                1   \n",
       "1      61829     0   74.0            0               1                0   \n",
       "2      14152     0   14.0            0               0                0   \n",
       "3      12997     1   28.0            0               0                1   \n",
       "4      40801     0   63.0            0               0                0   \n",
       "...      ...   ...    ...          ...             ...              ...   \n",
       "18596  67353     1   20.0            0               0                0   \n",
       "18597    362     1   61.0            0               0                0   \n",
       "18598  29839     0   79.0            0               0                0   \n",
       "18599   6438     1   55.0            0               0                0   \n",
       "18600  16770     0   38.0            0               0                0   \n",
       "\n",
       "       media_nivel_glicose   imc  trabalho_Autonomo  trabalho_Never_worked  \\\n",
       "0                    83.84  21.1                  0                      0   \n",
       "1                   179.50  26.0                  1                      0   \n",
       "2                    95.16  21.2                  0                      0   \n",
       "3                    94.76  23.4                  0                      0   \n",
       "4                    83.57  27.6                  0                      0   \n",
       "...                    ...   ...                ...                    ...   \n",
       "18596                74.43  18.4                  0                      0   \n",
       "18597               211.55  31.6                  0                      0   \n",
       "18598               125.74  29.4                  0                      0   \n",
       "18599                69.46  33.8                  0                      0   \n",
       "18600                91.23  24.4                  0                      0   \n",
       "\n",
       "       trabalho_Privado  trabalho_Servidor_Publico  trabalho_crianca  \\\n",
       "0                     1                          0                 0   \n",
       "1                     0                          0                 0   \n",
       "2                     0                          0                 1   \n",
       "3                     1                          0                 0   \n",
       "4                     0                          1                 0   \n",
       "...                 ...                        ...               ...   \n",
       "18596                 1                          0                 0   \n",
       "18597                 0                          1                 0   \n",
       "18598                 1                          0                 0   \n",
       "18599                 0                          1                 0   \n",
       "18600                 1                          0                 0   \n",
       "\n",
       "       tabagismo_desconhecido  tabagismo_fuma  tabagismo_fuma eventualmente  \\\n",
       "0                           0               0                             1   \n",
       "1                           0               0                             1   \n",
       "2                           1               0                             0   \n",
       "3                           1               0                             0   \n",
       "4                           0               0                             0   \n",
       "...                       ...             ...                           ...   \n",
       "18596                       0               0                             1   \n",
       "18597                       0               1                             0   \n",
       "18598                       0               0                             0   \n",
       "18599                       0               0                             0   \n",
       "18600                       1               0                             0   \n",
       "\n",
       "       tabagismo_nunca fumou  \n",
       "0                          0  \n",
       "1                          0  \n",
       "2                          0  \n",
       "3                          0  \n",
       "4                          1  \n",
       "...                      ...  \n",
       "18596                      0  \n",
       "18597                      0  \n",
       "18598                      1  \n",
       "18599                      1  \n",
       "18600                      0  \n",
       "\n",
       "[18601 rows x 17 columns]"
      ]
     },
     "execution_count": 85,
     "metadata": {},
     "output_type": "execute_result"
    }
   ],
   "source": [
    "dataset_novos_dados['sexo'] = dataset_novos_dados['sexo'].astype('category')\n",
    "dataset_novos_dados['tipo_residencia'] = dataset_novos_dados['tipo_residencia'].astype('category')\n",
    "dataset_novos_dados['sexo'] = dataset_novos_dados['sexo'].cat.codes\n",
    "dataset_novos_dados['tipo_residencia'] = dataset_novos_dados['tipo_residencia'].cat.codes\n",
    "dataset_novos_dados = pd.get_dummies(dataset_novos_dados, columns = ['tipo_trabalho','status_tabagismo'], prefix = [ \"trabalho\",'tabagismo'])\n",
    "dataset_novos_dados"
   ]
  },
  {
   "cell_type": "code",
   "execution_count": 86,
   "metadata": {
    "scrolled": true
   },
   "outputs": [
    {
     "data": {
      "text/html": [
       "<div>\n",
       "<style scoped>\n",
       "    .dataframe tbody tr th:only-of-type {\n",
       "        vertical-align: middle;\n",
       "    }\n",
       "\n",
       "    .dataframe tbody tr th {\n",
       "        vertical-align: top;\n",
       "    }\n",
       "\n",
       "    .dataframe thead th {\n",
       "        text-align: right;\n",
       "    }\n",
       "</style>\n",
       "<table border=\"1\" class=\"dataframe\">\n",
       "  <thead>\n",
       "    <tr style=\"text-align: right;\">\n",
       "      <th></th>\n",
       "      <th>sexo</th>\n",
       "      <th>idade</th>\n",
       "      <th>hipertensao</th>\n",
       "      <th>doenca_coracao</th>\n",
       "      <th>tipo_residencia</th>\n",
       "      <th>media_nivel_glicose</th>\n",
       "      <th>imc</th>\n",
       "      <th>trabalho_Autonomo</th>\n",
       "      <th>trabalho_Never_worked</th>\n",
       "      <th>trabalho_Privado</th>\n",
       "      <th>trabalho_Servidor_Publico</th>\n",
       "      <th>trabalho_crianca</th>\n",
       "      <th>tabagismo_desconhecido</th>\n",
       "      <th>tabagismo_fuma</th>\n",
       "      <th>tabagismo_fuma eventualmente</th>\n",
       "      <th>tabagismo_nunca fumou</th>\n",
       "    </tr>\n",
       "  </thead>\n",
       "  <tbody>\n",
       "    <tr>\n",
       "      <th>0</th>\n",
       "      <td>1</td>\n",
       "      <td>80.0</td>\n",
       "      <td>0</td>\n",
       "      <td>0</td>\n",
       "      <td>1</td>\n",
       "      <td>83.84</td>\n",
       "      <td>21.1</td>\n",
       "      <td>0</td>\n",
       "      <td>0</td>\n",
       "      <td>1</td>\n",
       "      <td>0</td>\n",
       "      <td>0</td>\n",
       "      <td>0</td>\n",
       "      <td>0</td>\n",
       "      <td>1</td>\n",
       "      <td>0</td>\n",
       "    </tr>\n",
       "    <tr>\n",
       "      <th>1</th>\n",
       "      <td>0</td>\n",
       "      <td>74.0</td>\n",
       "      <td>0</td>\n",
       "      <td>1</td>\n",
       "      <td>0</td>\n",
       "      <td>179.50</td>\n",
       "      <td>26.0</td>\n",
       "      <td>1</td>\n",
       "      <td>0</td>\n",
       "      <td>0</td>\n",
       "      <td>0</td>\n",
       "      <td>0</td>\n",
       "      <td>0</td>\n",
       "      <td>0</td>\n",
       "      <td>1</td>\n",
       "      <td>0</td>\n",
       "    </tr>\n",
       "    <tr>\n",
       "      <th>2</th>\n",
       "      <td>0</td>\n",
       "      <td>14.0</td>\n",
       "      <td>0</td>\n",
       "      <td>0</td>\n",
       "      <td>0</td>\n",
       "      <td>95.16</td>\n",
       "      <td>21.2</td>\n",
       "      <td>0</td>\n",
       "      <td>0</td>\n",
       "      <td>0</td>\n",
       "      <td>0</td>\n",
       "      <td>1</td>\n",
       "      <td>1</td>\n",
       "      <td>0</td>\n",
       "      <td>0</td>\n",
       "      <td>0</td>\n",
       "    </tr>\n",
       "    <tr>\n",
       "      <th>3</th>\n",
       "      <td>1</td>\n",
       "      <td>28.0</td>\n",
       "      <td>0</td>\n",
       "      <td>0</td>\n",
       "      <td>1</td>\n",
       "      <td>94.76</td>\n",
       "      <td>23.4</td>\n",
       "      <td>0</td>\n",
       "      <td>0</td>\n",
       "      <td>1</td>\n",
       "      <td>0</td>\n",
       "      <td>0</td>\n",
       "      <td>1</td>\n",
       "      <td>0</td>\n",
       "      <td>0</td>\n",
       "      <td>0</td>\n",
       "    </tr>\n",
       "    <tr>\n",
       "      <th>4</th>\n",
       "      <td>0</td>\n",
       "      <td>63.0</td>\n",
       "      <td>0</td>\n",
       "      <td>0</td>\n",
       "      <td>0</td>\n",
       "      <td>83.57</td>\n",
       "      <td>27.6</td>\n",
       "      <td>0</td>\n",
       "      <td>0</td>\n",
       "      <td>0</td>\n",
       "      <td>1</td>\n",
       "      <td>0</td>\n",
       "      <td>0</td>\n",
       "      <td>0</td>\n",
       "      <td>0</td>\n",
       "      <td>1</td>\n",
       "    </tr>\n",
       "    <tr>\n",
       "      <th>...</th>\n",
       "      <td>...</td>\n",
       "      <td>...</td>\n",
       "      <td>...</td>\n",
       "      <td>...</td>\n",
       "      <td>...</td>\n",
       "      <td>...</td>\n",
       "      <td>...</td>\n",
       "      <td>...</td>\n",
       "      <td>...</td>\n",
       "      <td>...</td>\n",
       "      <td>...</td>\n",
       "      <td>...</td>\n",
       "      <td>...</td>\n",
       "      <td>...</td>\n",
       "      <td>...</td>\n",
       "      <td>...</td>\n",
       "    </tr>\n",
       "    <tr>\n",
       "      <th>18596</th>\n",
       "      <td>1</td>\n",
       "      <td>20.0</td>\n",
       "      <td>0</td>\n",
       "      <td>0</td>\n",
       "      <td>0</td>\n",
       "      <td>74.43</td>\n",
       "      <td>18.4</td>\n",
       "      <td>0</td>\n",
       "      <td>0</td>\n",
       "      <td>1</td>\n",
       "      <td>0</td>\n",
       "      <td>0</td>\n",
       "      <td>0</td>\n",
       "      <td>0</td>\n",
       "      <td>1</td>\n",
       "      <td>0</td>\n",
       "    </tr>\n",
       "    <tr>\n",
       "      <th>18597</th>\n",
       "      <td>1</td>\n",
       "      <td>61.0</td>\n",
       "      <td>0</td>\n",
       "      <td>0</td>\n",
       "      <td>0</td>\n",
       "      <td>211.55</td>\n",
       "      <td>31.6</td>\n",
       "      <td>0</td>\n",
       "      <td>0</td>\n",
       "      <td>0</td>\n",
       "      <td>1</td>\n",
       "      <td>0</td>\n",
       "      <td>0</td>\n",
       "      <td>1</td>\n",
       "      <td>0</td>\n",
       "      <td>0</td>\n",
       "    </tr>\n",
       "    <tr>\n",
       "      <th>18598</th>\n",
       "      <td>0</td>\n",
       "      <td>79.0</td>\n",
       "      <td>0</td>\n",
       "      <td>0</td>\n",
       "      <td>0</td>\n",
       "      <td>125.74</td>\n",
       "      <td>29.4</td>\n",
       "      <td>0</td>\n",
       "      <td>0</td>\n",
       "      <td>1</td>\n",
       "      <td>0</td>\n",
       "      <td>0</td>\n",
       "      <td>0</td>\n",
       "      <td>0</td>\n",
       "      <td>0</td>\n",
       "      <td>1</td>\n",
       "    </tr>\n",
       "    <tr>\n",
       "      <th>18599</th>\n",
       "      <td>1</td>\n",
       "      <td>55.0</td>\n",
       "      <td>0</td>\n",
       "      <td>0</td>\n",
       "      <td>0</td>\n",
       "      <td>69.46</td>\n",
       "      <td>33.8</td>\n",
       "      <td>0</td>\n",
       "      <td>0</td>\n",
       "      <td>0</td>\n",
       "      <td>1</td>\n",
       "      <td>0</td>\n",
       "      <td>0</td>\n",
       "      <td>0</td>\n",
       "      <td>0</td>\n",
       "      <td>1</td>\n",
       "    </tr>\n",
       "    <tr>\n",
       "      <th>18600</th>\n",
       "      <td>0</td>\n",
       "      <td>38.0</td>\n",
       "      <td>0</td>\n",
       "      <td>0</td>\n",
       "      <td>0</td>\n",
       "      <td>91.23</td>\n",
       "      <td>24.4</td>\n",
       "      <td>0</td>\n",
       "      <td>0</td>\n",
       "      <td>1</td>\n",
       "      <td>0</td>\n",
       "      <td>0</td>\n",
       "      <td>1</td>\n",
       "      <td>0</td>\n",
       "      <td>0</td>\n",
       "      <td>0</td>\n",
       "    </tr>\n",
       "  </tbody>\n",
       "</table>\n",
       "<p>18601 rows × 16 columns</p>\n",
       "</div>"
      ],
      "text/plain": [
       "       sexo  idade  hipertensao  doenca_coracao  tipo_residencia  \\\n",
       "0         1   80.0            0               0                1   \n",
       "1         0   74.0            0               1                0   \n",
       "2         0   14.0            0               0                0   \n",
       "3         1   28.0            0               0                1   \n",
       "4         0   63.0            0               0                0   \n",
       "...     ...    ...          ...             ...              ...   \n",
       "18596     1   20.0            0               0                0   \n",
       "18597     1   61.0            0               0                0   \n",
       "18598     0   79.0            0               0                0   \n",
       "18599     1   55.0            0               0                0   \n",
       "18600     0   38.0            0               0                0   \n",
       "\n",
       "       media_nivel_glicose   imc  trabalho_Autonomo  trabalho_Never_worked  \\\n",
       "0                    83.84  21.1                  0                      0   \n",
       "1                   179.50  26.0                  1                      0   \n",
       "2                    95.16  21.2                  0                      0   \n",
       "3                    94.76  23.4                  0                      0   \n",
       "4                    83.57  27.6                  0                      0   \n",
       "...                    ...   ...                ...                    ...   \n",
       "18596                74.43  18.4                  0                      0   \n",
       "18597               211.55  31.6                  0                      0   \n",
       "18598               125.74  29.4                  0                      0   \n",
       "18599                69.46  33.8                  0                      0   \n",
       "18600                91.23  24.4                  0                      0   \n",
       "\n",
       "       trabalho_Privado  trabalho_Servidor_Publico  trabalho_crianca  \\\n",
       "0                     1                          0                 0   \n",
       "1                     0                          0                 0   \n",
       "2                     0                          0                 1   \n",
       "3                     1                          0                 0   \n",
       "4                     0                          1                 0   \n",
       "...                 ...                        ...               ...   \n",
       "18596                 1                          0                 0   \n",
       "18597                 0                          1                 0   \n",
       "18598                 1                          0                 0   \n",
       "18599                 0                          1                 0   \n",
       "18600                 1                          0                 0   \n",
       "\n",
       "       tabagismo_desconhecido  tabagismo_fuma  tabagismo_fuma eventualmente  \\\n",
       "0                           0               0                             1   \n",
       "1                           0               0                             1   \n",
       "2                           1               0                             0   \n",
       "3                           1               0                             0   \n",
       "4                           0               0                             0   \n",
       "...                       ...             ...                           ...   \n",
       "18596                       0               0                             1   \n",
       "18597                       0               1                             0   \n",
       "18598                       0               0                             0   \n",
       "18599                       0               0                             0   \n",
       "18600                       1               0                             0   \n",
       "\n",
       "       tabagismo_nunca fumou  \n",
       "0                          0  \n",
       "1                          0  \n",
       "2                          0  \n",
       "3                          0  \n",
       "4                          1  \n",
       "...                      ...  \n",
       "18596                      0  \n",
       "18597                      0  \n",
       "18598                      1  \n",
       "18599                      1  \n",
       "18600                      0  \n",
       "\n",
       "[18601 rows x 16 columns]"
      ]
     },
     "execution_count": 86,
     "metadata": {},
     "output_type": "execute_result"
    }
   ],
   "source": [
    "# Separando a coluna id para usarmos mais tarde\n",
    "X_novos_dados = dataset_novos_dados.loc[:, dataset_novos_dados.columns != 'id']\n",
    "paciente_id = dataset_novos_dados['id']\n",
    "X_novos_dados"
   ]
  },
  {
   "cell_type": "markdown",
   "metadata": {},
   "source": [
    "### 5.2 - Previsões com o Modelo Treinado"
   ]
  },
  {
   "cell_type": "code",
   "execution_count": 87,
   "metadata": {},
   "outputs": [],
   "source": [
    "# Usando dados de teste para as previsões\n",
    "Y_novos_dados_label = modelo.predict(X_novos_dados)\n",
    "Y_novos_dados_prob = modelo.predict_proba(X_novos_dados)"
   ]
  },
  {
   "cell_type": "code",
   "execution_count": 88,
   "metadata": {},
   "outputs": [
    {
     "data": {
      "text/plain": [
       "array([0, 0, 0, ..., 0, 0, 0], dtype=int64)"
      ]
     },
     "execution_count": 88,
     "metadata": {},
     "output_type": "execute_result"
    }
   ],
   "source": [
    "Y_novos_dados_label"
   ]
  },
  {
   "cell_type": "code",
   "execution_count": 89,
   "metadata": {},
   "outputs": [
    {
     "data": {
      "text/plain": [
       "array([[0.98, 0.02],\n",
       "       [0.96, 0.04],\n",
       "       [1.  , 0.  ],\n",
       "       ...,\n",
       "       [0.96, 0.04],\n",
       "       [1.  , 0.  ],\n",
       "       [1.  , 0.  ]])"
      ]
     },
     "execution_count": 89,
     "metadata": {},
     "output_type": "execute_result"
    }
   ],
   "source": [
    "Y_novos_dados_prob"
   ]
  },
  {
   "cell_type": "code",
   "execution_count": 90,
   "metadata": {},
   "outputs": [],
   "source": [
    "# Extraindo todas as previsões\n",
    "\n",
    "# Cria um vetor vazio\n",
    "Y_novos_dados = [None] * len(X_novos_dados)\n",
    "\n",
    "# Looop pelas previsões e gravações no vetor de previsões\n",
    "for i in range(len(X_novos_dados)):\n",
    "    Y_novos_dados[i] = Y_novos_dados_prob[i]"
   ]
  },
  {
   "cell_type": "code",
   "execution_count": 91,
   "metadata": {},
   "outputs": [
    {
     "data": {
      "text/plain": [
       "[array([0.98, 0.02]),\n",
       " array([0.96, 0.04]),\n",
       " array([1., 0.]),\n",
       " array([1., 0.]),\n",
       " array([0.99, 0.01])]"
      ]
     },
     "execution_count": 91,
     "metadata": {},
     "output_type": "execute_result"
    }
   ],
   "source": [
    "# Vetor de previsões\n",
    "Y_novos_dados[:5]"
   ]
  },
  {
   "cell_type": "code",
   "execution_count": 92,
   "metadata": {},
   "outputs": [],
   "source": [
    "# Salvando o resultado com as previsões para cada paciente\n",
    "resultado = pd.DataFrame()\n",
    "resultado['id'] = paciente_id\n",
    "resultado['avc'] = Y_novos_dados\n",
    "resultado.to_csv('dados/resultado.csv', index = False)"
   ]
  },
  {
   "cell_type": "markdown",
   "metadata": {},
   "source": [
    "# Fim"
   ]
  }
 ],
 "metadata": {
  "kernelspec": {
   "display_name": "Python 3",
   "language": "python",
   "name": "python3"
  },
  "language_info": {
   "codemirror_mode": {
    "name": "ipython",
    "version": 3
   },
   "file_extension": ".py",
   "mimetype": "text/x-python",
   "name": "python",
   "nbconvert_exporter": "python",
   "pygments_lexer": "ipython3",
   "version": "3.8.5"
  }
 },
 "nbformat": 4,
 "nbformat_minor": 2
}
